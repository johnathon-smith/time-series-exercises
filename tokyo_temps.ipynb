{
 "cells": [
  {
   "cell_type": "markdown",
   "id": "f5c04824",
   "metadata": {},
   "source": [
    "# Time Series End-to-End Exercise\n",
    "***\n",
    "\n",
    "## Forecasting Tokyo Temperatures\n",
    "\n",
    "The goal of this mini-project is to predict Tokyo temperatures over the next year (Oct 2013 - Sep 2014), month by month. Since this prediction is not too far in the future, I will be using recent data (Oct 2008 - Sep 2013)."
   ]
  },
  {
   "cell_type": "code",
   "execution_count": 1,
   "id": "eecd5af9",
   "metadata": {},
   "outputs": [],
   "source": [
    "import numpy as np\n",
    "import pandas as pd\n",
    "\n",
    "import matplotlib.pyplot as plt\n",
    "import seaborn as sns\n",
    "from pandas.plotting import register_matplotlib_converters\n",
    "\n",
    "from sklearn.metrics import mean_squared_error\n",
    "from math import sqrt\n",
    "\n",
    "import statsmodels.api as sm\n",
    "from statsmodels.tsa.api import Holt\n",
    "\n",
    "import warnings\n",
    "warnings.filterwarnings('ignore')"
   ]
  },
  {
   "cell_type": "markdown",
   "id": "0bb02fae",
   "metadata": {},
   "source": [
    "### Acquire Data\n",
    "\n",
    "The data was acquired from https://www.kaggle.com/berkeleyearth/climate-change-earth-surface-temperature-data and saved as a .csv."
   ]
  },
  {
   "cell_type": "code",
   "execution_count": 2,
   "id": "fa8277fc",
   "metadata": {},
   "outputs": [],
   "source": [
    "temps = pd.read_csv('GlobalLandTemperaturesByCity.csv')"
   ]
  },
  {
   "cell_type": "code",
   "execution_count": 3,
   "id": "8b355f83",
   "metadata": {},
   "outputs": [
    {
     "data": {
      "text/html": [
       "<div>\n",
       "<style scoped>\n",
       "    .dataframe tbody tr th:only-of-type {\n",
       "        vertical-align: middle;\n",
       "    }\n",
       "\n",
       "    .dataframe tbody tr th {\n",
       "        vertical-align: top;\n",
       "    }\n",
       "\n",
       "    .dataframe thead th {\n",
       "        text-align: right;\n",
       "    }\n",
       "</style>\n",
       "<table border=\"1\" class=\"dataframe\">\n",
       "  <thead>\n",
       "    <tr style=\"text-align: right;\">\n",
       "      <th></th>\n",
       "      <th>dt</th>\n",
       "      <th>AverageTemperature</th>\n",
       "      <th>AverageTemperatureUncertainty</th>\n",
       "      <th>City</th>\n",
       "      <th>Country</th>\n",
       "      <th>Latitude</th>\n",
       "      <th>Longitude</th>\n",
       "    </tr>\n",
       "  </thead>\n",
       "  <tbody>\n",
       "    <tr>\n",
       "      <th>0</th>\n",
       "      <td>1743-11-01</td>\n",
       "      <td>6.068</td>\n",
       "      <td>1.737</td>\n",
       "      <td>Århus</td>\n",
       "      <td>Denmark</td>\n",
       "      <td>57.05N</td>\n",
       "      <td>10.33E</td>\n",
       "    </tr>\n",
       "    <tr>\n",
       "      <th>1</th>\n",
       "      <td>1743-12-01</td>\n",
       "      <td>NaN</td>\n",
       "      <td>NaN</td>\n",
       "      <td>Århus</td>\n",
       "      <td>Denmark</td>\n",
       "      <td>57.05N</td>\n",
       "      <td>10.33E</td>\n",
       "    </tr>\n",
       "    <tr>\n",
       "      <th>2</th>\n",
       "      <td>1744-01-01</td>\n",
       "      <td>NaN</td>\n",
       "      <td>NaN</td>\n",
       "      <td>Århus</td>\n",
       "      <td>Denmark</td>\n",
       "      <td>57.05N</td>\n",
       "      <td>10.33E</td>\n",
       "    </tr>\n",
       "    <tr>\n",
       "      <th>3</th>\n",
       "      <td>1744-02-01</td>\n",
       "      <td>NaN</td>\n",
       "      <td>NaN</td>\n",
       "      <td>Århus</td>\n",
       "      <td>Denmark</td>\n",
       "      <td>57.05N</td>\n",
       "      <td>10.33E</td>\n",
       "    </tr>\n",
       "    <tr>\n",
       "      <th>4</th>\n",
       "      <td>1744-03-01</td>\n",
       "      <td>NaN</td>\n",
       "      <td>NaN</td>\n",
       "      <td>Århus</td>\n",
       "      <td>Denmark</td>\n",
       "      <td>57.05N</td>\n",
       "      <td>10.33E</td>\n",
       "    </tr>\n",
       "  </tbody>\n",
       "</table>\n",
       "</div>"
      ],
      "text/plain": [
       "           dt  AverageTemperature  AverageTemperatureUncertainty   City  \\\n",
       "0  1743-11-01               6.068                          1.737  Århus   \n",
       "1  1743-12-01                 NaN                            NaN  Århus   \n",
       "2  1744-01-01                 NaN                            NaN  Århus   \n",
       "3  1744-02-01                 NaN                            NaN  Århus   \n",
       "4  1744-03-01                 NaN                            NaN  Århus   \n",
       "\n",
       "   Country Latitude Longitude  \n",
       "0  Denmark   57.05N    10.33E  \n",
       "1  Denmark   57.05N    10.33E  \n",
       "2  Denmark   57.05N    10.33E  \n",
       "3  Denmark   57.05N    10.33E  \n",
       "4  Denmark   57.05N    10.33E  "
      ]
     },
     "execution_count": 3,
     "metadata": {},
     "output_type": "execute_result"
    }
   ],
   "source": [
    "temps.head()"
   ]
  },
  {
   "cell_type": "code",
   "execution_count": 4,
   "id": "9cc78102",
   "metadata": {},
   "outputs": [
    {
     "name": "stdout",
     "output_type": "stream",
     "text": [
      "<class 'pandas.core.frame.DataFrame'>\n",
      "RangeIndex: 8599212 entries, 0 to 8599211\n",
      "Data columns (total 7 columns):\n",
      " #   Column                         Dtype  \n",
      "---  ------                         -----  \n",
      " 0   dt                             object \n",
      " 1   AverageTemperature             float64\n",
      " 2   AverageTemperatureUncertainty  float64\n",
      " 3   City                           object \n",
      " 4   Country                        object \n",
      " 5   Latitude                       object \n",
      " 6   Longitude                      object \n",
      "dtypes: float64(2), object(5)\n",
      "memory usage: 459.2+ MB\n"
     ]
    }
   ],
   "source": [
    "temps.info()"
   ]
  },
  {
   "cell_type": "code",
   "execution_count": 5,
   "id": "b1b73327",
   "metadata": {},
   "outputs": [],
   "source": [
    "#Grab only the tokyo data\n",
    "tokyo = temps[temps.City == 'Tokyo']"
   ]
  },
  {
   "cell_type": "code",
   "execution_count": 6,
   "id": "9582928e",
   "metadata": {},
   "outputs": [],
   "source": [
    "#Save the tokyo data as a .csv for easy access later\n",
    "tokyo.to_csv('tokyo_temps.csv')"
   ]
  },
  {
   "cell_type": "code",
   "execution_count": 7,
   "id": "43ec92fa",
   "metadata": {},
   "outputs": [
    {
     "data": {
      "text/html": [
       "<div>\n",
       "<style scoped>\n",
       "    .dataframe tbody tr th:only-of-type {\n",
       "        vertical-align: middle;\n",
       "    }\n",
       "\n",
       "    .dataframe tbody tr th {\n",
       "        vertical-align: top;\n",
       "    }\n",
       "\n",
       "    .dataframe thead th {\n",
       "        text-align: right;\n",
       "    }\n",
       "</style>\n",
       "<table border=\"1\" class=\"dataframe\">\n",
       "  <thead>\n",
       "    <tr style=\"text-align: right;\">\n",
       "      <th></th>\n",
       "      <th>dt</th>\n",
       "      <th>AverageTemperature</th>\n",
       "      <th>AverageTemperatureUncertainty</th>\n",
       "      <th>City</th>\n",
       "      <th>Country</th>\n",
       "      <th>Latitude</th>\n",
       "      <th>Longitude</th>\n",
       "    </tr>\n",
       "  </thead>\n",
       "  <tbody>\n",
       "    <tr>\n",
       "      <th>7659221</th>\n",
       "      <td>1845-01-01</td>\n",
       "      <td>2.377</td>\n",
       "      <td>2.006</td>\n",
       "      <td>Tokyo</td>\n",
       "      <td>Japan</td>\n",
       "      <td>36.17N</td>\n",
       "      <td>139.23E</td>\n",
       "    </tr>\n",
       "    <tr>\n",
       "      <th>7659222</th>\n",
       "      <td>1845-02-01</td>\n",
       "      <td>1.312</td>\n",
       "      <td>2.968</td>\n",
       "      <td>Tokyo</td>\n",
       "      <td>Japan</td>\n",
       "      <td>36.17N</td>\n",
       "      <td>139.23E</td>\n",
       "    </tr>\n",
       "    <tr>\n",
       "      <th>7659223</th>\n",
       "      <td>1845-03-01</td>\n",
       "      <td>5.276</td>\n",
       "      <td>1.506</td>\n",
       "      <td>Tokyo</td>\n",
       "      <td>Japan</td>\n",
       "      <td>36.17N</td>\n",
       "      <td>139.23E</td>\n",
       "    </tr>\n",
       "    <tr>\n",
       "      <th>7659224</th>\n",
       "      <td>1845-04-01</td>\n",
       "      <td>10.387</td>\n",
       "      <td>1.508</td>\n",
       "      <td>Tokyo</td>\n",
       "      <td>Japan</td>\n",
       "      <td>36.17N</td>\n",
       "      <td>139.23E</td>\n",
       "    </tr>\n",
       "    <tr>\n",
       "      <th>7659225</th>\n",
       "      <td>1845-05-01</td>\n",
       "      <td>14.923</td>\n",
       "      <td>1.448</td>\n",
       "      <td>Tokyo</td>\n",
       "      <td>Japan</td>\n",
       "      <td>36.17N</td>\n",
       "      <td>139.23E</td>\n",
       "    </tr>\n",
       "  </tbody>\n",
       "</table>\n",
       "</div>"
      ],
      "text/plain": [
       "                 dt  AverageTemperature  AverageTemperatureUncertainty   City  \\\n",
       "7659221  1845-01-01               2.377                          2.006  Tokyo   \n",
       "7659222  1845-02-01               1.312                          2.968  Tokyo   \n",
       "7659223  1845-03-01               5.276                          1.506  Tokyo   \n",
       "7659224  1845-04-01              10.387                          1.508  Tokyo   \n",
       "7659225  1845-05-01              14.923                          1.448  Tokyo   \n",
       "\n",
       "        Country Latitude Longitude  \n",
       "7659221   Japan   36.17N   139.23E  \n",
       "7659222   Japan   36.17N   139.23E  \n",
       "7659223   Japan   36.17N   139.23E  \n",
       "7659224   Japan   36.17N   139.23E  \n",
       "7659225   Japan   36.17N   139.23E  "
      ]
     },
     "execution_count": 7,
     "metadata": {},
     "output_type": "execute_result"
    }
   ],
   "source": [
    "tokyo.head()"
   ]
  },
  {
   "cell_type": "code",
   "execution_count": 8,
   "id": "edae30ea",
   "metadata": {},
   "outputs": [
    {
     "name": "stdout",
     "output_type": "stream",
     "text": [
      "<class 'pandas.core.frame.DataFrame'>\n",
      "Int64Index: 2025 entries, 7659221 to 7661245\n",
      "Data columns (total 7 columns):\n",
      " #   Column                         Non-Null Count  Dtype  \n",
      "---  ------                         --------------  -----  \n",
      " 0   dt                             2025 non-null   object \n",
      " 1   AverageTemperature             2020 non-null   float64\n",
      " 2   AverageTemperatureUncertainty  2020 non-null   float64\n",
      " 3   City                           2025 non-null   object \n",
      " 4   Country                        2025 non-null   object \n",
      " 5   Latitude                       2025 non-null   object \n",
      " 6   Longitude                      2025 non-null   object \n",
      "dtypes: float64(2), object(5)\n",
      "memory usage: 126.6+ KB\n"
     ]
    }
   ],
   "source": [
    "tokyo.info()"
   ]
  },
  {
   "cell_type": "markdown",
   "id": "5918de7b",
   "metadata": {},
   "source": [
    "### Prepare Data"
   ]
  },
  {
   "cell_type": "code",
   "execution_count": 9,
   "id": "415b6689",
   "metadata": {},
   "outputs": [
    {
     "data": {
      "text/plain": [
       "dt                               0\n",
       "AverageTemperature               5\n",
       "AverageTemperatureUncertainty    5\n",
       "City                             0\n",
       "Country                          0\n",
       "Latitude                         0\n",
       "Longitude                        0\n",
       "dtype: int64"
      ]
     },
     "execution_count": 9,
     "metadata": {},
     "output_type": "execute_result"
    }
   ],
   "source": [
    "#Are there any nulls I need to worry about?\n",
    "tokyo.isnull().sum()"
   ]
  },
  {
   "cell_type": "markdown",
   "id": "95f1f89b",
   "metadata": {},
   "source": [
    "There are 5 null values in the 'AverageTemperature' and 'AverageTemperatureUncertainty' columns. Since there are only 5, and I don't want any null or missing values in my dataset, I will simply use the previous values to fill them in."
   ]
  },
  {
   "cell_type": "code",
   "execution_count": 10,
   "id": "bd82d2b2",
   "metadata": {},
   "outputs": [],
   "source": [
    "#Convert date to datetime object\n",
    "tokyo['dt'] = pd.to_datetime(tokyo['dt'])"
   ]
  },
  {
   "cell_type": "code",
   "execution_count": 11,
   "id": "c65c72d5",
   "metadata": {},
   "outputs": [
    {
     "data": {
      "text/html": [
       "<div>\n",
       "<style scoped>\n",
       "    .dataframe tbody tr th:only-of-type {\n",
       "        vertical-align: middle;\n",
       "    }\n",
       "\n",
       "    .dataframe tbody tr th {\n",
       "        vertical-align: top;\n",
       "    }\n",
       "\n",
       "    .dataframe thead th {\n",
       "        text-align: right;\n",
       "    }\n",
       "</style>\n",
       "<table border=\"1\" class=\"dataframe\">\n",
       "  <thead>\n",
       "    <tr style=\"text-align: right;\">\n",
       "      <th></th>\n",
       "      <th>dt</th>\n",
       "      <th>AverageTemperature</th>\n",
       "      <th>AverageTemperatureUncertainty</th>\n",
       "      <th>City</th>\n",
       "      <th>Country</th>\n",
       "      <th>Latitude</th>\n",
       "      <th>Longitude</th>\n",
       "    </tr>\n",
       "  </thead>\n",
       "  <tbody>\n",
       "    <tr>\n",
       "      <th>7659521</th>\n",
       "      <td>1870-01-01</td>\n",
       "      <td>NaN</td>\n",
       "      <td>NaN</td>\n",
       "      <td>Tokyo</td>\n",
       "      <td>Japan</td>\n",
       "      <td>36.17N</td>\n",
       "      <td>139.23E</td>\n",
       "    </tr>\n",
       "    <tr>\n",
       "      <th>7659522</th>\n",
       "      <td>1870-02-01</td>\n",
       "      <td>NaN</td>\n",
       "      <td>NaN</td>\n",
       "      <td>Tokyo</td>\n",
       "      <td>Japan</td>\n",
       "      <td>36.17N</td>\n",
       "      <td>139.23E</td>\n",
       "    </tr>\n",
       "    <tr>\n",
       "      <th>7659523</th>\n",
       "      <td>1870-03-01</td>\n",
       "      <td>NaN</td>\n",
       "      <td>NaN</td>\n",
       "      <td>Tokyo</td>\n",
       "      <td>Japan</td>\n",
       "      <td>36.17N</td>\n",
       "      <td>139.23E</td>\n",
       "    </tr>\n",
       "    <tr>\n",
       "      <th>7659524</th>\n",
       "      <td>1870-04-01</td>\n",
       "      <td>NaN</td>\n",
       "      <td>NaN</td>\n",
       "      <td>Tokyo</td>\n",
       "      <td>Japan</td>\n",
       "      <td>36.17N</td>\n",
       "      <td>139.23E</td>\n",
       "    </tr>\n",
       "    <tr>\n",
       "      <th>7661245</th>\n",
       "      <td>2013-09-01</td>\n",
       "      <td>NaN</td>\n",
       "      <td>NaN</td>\n",
       "      <td>Tokyo</td>\n",
       "      <td>Japan</td>\n",
       "      <td>36.17N</td>\n",
       "      <td>139.23E</td>\n",
       "    </tr>\n",
       "  </tbody>\n",
       "</table>\n",
       "</div>"
      ],
      "text/plain": [
       "                dt  AverageTemperature  AverageTemperatureUncertainty   City  \\\n",
       "7659521 1870-01-01                 NaN                            NaN  Tokyo   \n",
       "7659522 1870-02-01                 NaN                            NaN  Tokyo   \n",
       "7659523 1870-03-01                 NaN                            NaN  Tokyo   \n",
       "7659524 1870-04-01                 NaN                            NaN  Tokyo   \n",
       "7661245 2013-09-01                 NaN                            NaN  Tokyo   \n",
       "\n",
       "        Country Latitude Longitude  \n",
       "7659521   Japan   36.17N   139.23E  \n",
       "7659522   Japan   36.17N   139.23E  \n",
       "7659523   Japan   36.17N   139.23E  \n",
       "7659524   Japan   36.17N   139.23E  \n",
       "7661245   Japan   36.17N   139.23E  "
      ]
     },
     "execution_count": 11,
     "metadata": {},
     "output_type": "execute_result"
    }
   ],
   "source": [
    "#Take a look at the null values\n",
    "tokyo[pd.isnull(tokyo.AverageTemperature)]"
   ]
  },
  {
   "cell_type": "code",
   "execution_count": 12,
   "id": "fa72d5f0",
   "metadata": {},
   "outputs": [],
   "source": [
    "#Fill in the missing values with the previous values\n",
    "tokyo.fillna(method = 'pad', inplace = True)"
   ]
  },
  {
   "cell_type": "code",
   "execution_count": 13,
   "id": "b9125c14",
   "metadata": {},
   "outputs": [
    {
     "data": {
      "text/plain": [
       "dt                               0\n",
       "AverageTemperature               0\n",
       "AverageTemperatureUncertainty    0\n",
       "City                             0\n",
       "Country                          0\n",
       "Latitude                         0\n",
       "Longitude                        0\n",
       "dtype: int64"
      ]
     },
     "execution_count": 13,
     "metadata": {},
     "output_type": "execute_result"
    }
   ],
   "source": [
    "tokyo.isnull().sum()"
   ]
  },
  {
   "cell_type": "code",
   "execution_count": 14,
   "id": "db20f1f6",
   "metadata": {},
   "outputs": [],
   "source": [
    "#Make the date the index and sort\n",
    "tokyo = tokyo.set_index('dt').sort_index()"
   ]
  },
  {
   "cell_type": "code",
   "execution_count": 15,
   "id": "5df5c2c2",
   "metadata": {},
   "outputs": [],
   "source": [
    "#Now convert celsius to farenheit\n",
    "tokyo.AverageTemperature = round((tokyo.AverageTemperature * 1.8) + 32)\n",
    "tokyo.AverageTemperatureUncertainty = round((tokyo.AverageTemperatureUncertainty * 1.8) + 32)"
   ]
  },
  {
   "cell_type": "code",
   "execution_count": 16,
   "id": "b24b506a",
   "metadata": {},
   "outputs": [
    {
     "data": {
      "text/html": [
       "<div>\n",
       "<style scoped>\n",
       "    .dataframe tbody tr th:only-of-type {\n",
       "        vertical-align: middle;\n",
       "    }\n",
       "\n",
       "    .dataframe tbody tr th {\n",
       "        vertical-align: top;\n",
       "    }\n",
       "\n",
       "    .dataframe thead th {\n",
       "        text-align: right;\n",
       "    }\n",
       "</style>\n",
       "<table border=\"1\" class=\"dataframe\">\n",
       "  <thead>\n",
       "    <tr style=\"text-align: right;\">\n",
       "      <th></th>\n",
       "      <th>AverageTemperature</th>\n",
       "      <th>AverageTemperatureUncertainty</th>\n",
       "      <th>City</th>\n",
       "      <th>Country</th>\n",
       "      <th>Latitude</th>\n",
       "      <th>Longitude</th>\n",
       "    </tr>\n",
       "    <tr>\n",
       "      <th>dt</th>\n",
       "      <th></th>\n",
       "      <th></th>\n",
       "      <th></th>\n",
       "      <th></th>\n",
       "      <th></th>\n",
       "      <th></th>\n",
       "    </tr>\n",
       "  </thead>\n",
       "  <tbody>\n",
       "    <tr>\n",
       "      <th>1845-01-01</th>\n",
       "      <td>36.0</td>\n",
       "      <td>36.0</td>\n",
       "      <td>Tokyo</td>\n",
       "      <td>Japan</td>\n",
       "      <td>36.17N</td>\n",
       "      <td>139.23E</td>\n",
       "    </tr>\n",
       "    <tr>\n",
       "      <th>1845-02-01</th>\n",
       "      <td>34.0</td>\n",
       "      <td>37.0</td>\n",
       "      <td>Tokyo</td>\n",
       "      <td>Japan</td>\n",
       "      <td>36.17N</td>\n",
       "      <td>139.23E</td>\n",
       "    </tr>\n",
       "    <tr>\n",
       "      <th>1845-03-01</th>\n",
       "      <td>41.0</td>\n",
       "      <td>35.0</td>\n",
       "      <td>Tokyo</td>\n",
       "      <td>Japan</td>\n",
       "      <td>36.17N</td>\n",
       "      <td>139.23E</td>\n",
       "    </tr>\n",
       "    <tr>\n",
       "      <th>1845-04-01</th>\n",
       "      <td>51.0</td>\n",
       "      <td>35.0</td>\n",
       "      <td>Tokyo</td>\n",
       "      <td>Japan</td>\n",
       "      <td>36.17N</td>\n",
       "      <td>139.23E</td>\n",
       "    </tr>\n",
       "    <tr>\n",
       "      <th>1845-05-01</th>\n",
       "      <td>59.0</td>\n",
       "      <td>35.0</td>\n",
       "      <td>Tokyo</td>\n",
       "      <td>Japan</td>\n",
       "      <td>36.17N</td>\n",
       "      <td>139.23E</td>\n",
       "    </tr>\n",
       "  </tbody>\n",
       "</table>\n",
       "</div>"
      ],
      "text/plain": [
       "            AverageTemperature  AverageTemperatureUncertainty   City Country  \\\n",
       "dt                                                                             \n",
       "1845-01-01                36.0                           36.0  Tokyo   Japan   \n",
       "1845-02-01                34.0                           37.0  Tokyo   Japan   \n",
       "1845-03-01                41.0                           35.0  Tokyo   Japan   \n",
       "1845-04-01                51.0                           35.0  Tokyo   Japan   \n",
       "1845-05-01                59.0                           35.0  Tokyo   Japan   \n",
       "\n",
       "           Latitude Longitude  \n",
       "dt                             \n",
       "1845-01-01   36.17N   139.23E  \n",
       "1845-02-01   36.17N   139.23E  \n",
       "1845-03-01   36.17N   139.23E  \n",
       "1845-04-01   36.17N   139.23E  \n",
       "1845-05-01   36.17N   139.23E  "
      ]
     },
     "execution_count": 16,
     "metadata": {},
     "output_type": "execute_result"
    }
   ],
   "source": [
    "tokyo.head()"
   ]
  },
  {
   "cell_type": "code",
   "execution_count": 17,
   "id": "460ed209",
   "metadata": {},
   "outputs": [],
   "source": [
    "#Drop all columns except AverageTemperature\n",
    "tokyo = tokyo.drop(columns = ['AverageTemperatureUncertainty', 'City', 'Country', 'Latitude', 'Longitude'])"
   ]
  },
  {
   "cell_type": "code",
   "execution_count": 18,
   "id": "f30a35f9",
   "metadata": {},
   "outputs": [
    {
     "data": {
      "text/plain": [
       "(36, 1)"
      ]
     },
     "execution_count": 18,
     "metadata": {},
     "output_type": "execute_result"
    }
   ],
   "source": [
    "#Now split into train, validate, and test sets\n",
    "train = tokyo['2008-10':'2011-09']\n",
    "train.shape"
   ]
  },
  {
   "cell_type": "code",
   "execution_count": 19,
   "id": "b8908079",
   "metadata": {},
   "outputs": [
    {
     "data": {
      "text/plain": [
       "(12, 1)"
      ]
     },
     "execution_count": 19,
     "metadata": {},
     "output_type": "execute_result"
    }
   ],
   "source": [
    "validate = tokyo['2011-10':'2012-09']\n",
    "validate.shape"
   ]
  },
  {
   "cell_type": "code",
   "execution_count": 20,
   "id": "e451fb43",
   "metadata": {},
   "outputs": [
    {
     "data": {
      "text/plain": [
       "(12, 1)"
      ]
     },
     "execution_count": 20,
     "metadata": {},
     "output_type": "execute_result"
    }
   ],
   "source": [
    "test = tokyo['2012-10':'2013-09']\n",
    "test.shape"
   ]
  },
  {
   "cell_type": "markdown",
   "id": "21f6eec7",
   "metadata": {},
   "source": [
    "### Explore Data"
   ]
  },
  {
   "cell_type": "code",
   "execution_count": 21,
   "id": "6ca9616c",
   "metadata": {},
   "outputs": [
    {
     "data": {
      "image/png": "[encoded data removed]",
      "text/plain": [
       "<Figure size 864x432 with 1 Axes>"
      ]
     },
     "metadata": {
      "needs_background": "light"
     },
     "output_type": "display_data"
    }
   ],
   "source": [
    "#Plot the data\n",
    "plt.figure(figsize=(12,6))\n",
    "plt.plot(train['AverageTemperature'], label = 'Train', color = '#1f77b4')\n",
    "plt.plot(validate['AverageTemperature'], label = 'Validate', color = '#ff7f0e')\n",
    "plt.plot(test['AverageTemperature'], label = 'Test', color = '#2ca02c')\n",
    "#The following two plots fill in the gaps between each data set\n",
    "plt.plot(tokyo['2011-09':'2011-10']['AverageTemperature'], color = '#1f77b4')\n",
    "plt.plot(tokyo['2012-09':'2012-10']['AverageTemperature'], color = '#ff7f0e')\n",
    "plt.title('AverageTemperature')\n",
    "plt.xlabel('Date')\n",
    "plt.ylabel('Average Temperature (F)')\n",
    "plt.legend()\n",
    "plt.show()"
   ]
  },
  {
   "cell_type": "markdown",
   "id": "81b31329",
   "metadata": {},
   "source": [
    "As expected there is an apparent cycle from year to year. I think using the previous cycle method to make predictions will be a good option."
   ]
  },
  {
   "cell_type": "code",
   "execution_count": 22,
   "id": "03fb8e3d",
   "metadata": {},
   "outputs": [
    {
     "data": {
      "image/png": "[encoded data removed]",
      "text/plain": [
       "<Figure size 864x432 with 1 Axes>"
      ]
     },
     "metadata": {
      "needs_background": "light"
     },
     "output_type": "display_data"
    }
   ],
   "source": [
    "plt.figure(figsize=(12,6))\n",
    "plt.plot(train['AverageTemperature'].rolling(3).mean(), label = '3 Month Rolling Average')\n",
    "plt.plot(train['AverageTemperature'], label = 'Average Temperature')\n",
    "plt.title('3 Month Moving Average')\n",
    "plt.legend()\n",
    "plt.xlabel('Date')\n",
    "plt.ylabel('Average Temperature (F)')\n",
    "plt.show()"
   ]
  },
  {
   "cell_type": "code",
   "execution_count": 23,
   "id": "814a25ba",
   "metadata": {},
   "outputs": [],
   "source": [
    "result = sm.tsa.seasonal_decompose(train.AverageTemperature)\n",
    "decomposition = pd.DataFrame({\n",
    "    'y': result.observed,\n",
    "    'trend': result.trend,\n",
    "    'seasonal': result.seasonal,\n",
    "    'resid': result.resid,\n",
    "})"
   ]
  },
  {
   "cell_type": "code",
   "execution_count": 24,
   "id": "fb63bb46",
   "metadata": {},
   "outputs": [
    {
     "data": {
      "image/png": "[encoded data removed]",
      "text/plain": [
       "<Figure size 432x288 with 1 Axes>"
      ]
     },
     "metadata": {
      "needs_background": "light"
     },
     "output_type": "display_data"
    }
   ],
   "source": [
    "decomposition.iloc[:, 1:].plot()\n",
    "plt.title('Seasonal Decomposition')\n",
    "plt.show()"
   ]
  },
  {
   "cell_type": "markdown",
   "id": "2e68dbaf",
   "metadata": {},
   "source": [
    "### Model Data\n",
    "\n",
    "Some helpful functions:"
   ]
  },
  {
   "cell_type": "code",
   "execution_count": 25,
   "id": "bcfde2b1",
   "metadata": {},
   "outputs": [],
   "source": [
    "def evaluate(target_var):\n",
    "    \"\"\"\n",
    "        This function will calculate the RMSE and return it.\n",
    "    \"\"\"\n",
    "    rmse = round(sqrt(mean_squared_error(validate[target_var], yhat_df[target_var])), 0)\n",
    "    return rmse"
   ]
  },
  {
   "cell_type": "code",
   "execution_count": 26,
   "id": "3d2e28e6",
   "metadata": {},
   "outputs": [],
   "source": [
    "def plot_and_eval(target_var):\n",
    "    \"\"\"\n",
    "        This function will use the evaluate function and also plot train \n",
    "        and test values with the predicted values in order to compare performance.\n",
    "    \"\"\"\n",
    "    plt.figure(figsize = (12,4))\n",
    "    plt.plot(train[target_var], label = 'Train', linewidth = 1)\n",
    "    plt.plot(validate[target_var], label = 'Validate', linewidth = 1)\n",
    "    plt.plot(yhat_df[target_var], label = 'Prediction', linewidth = 1)\n",
    "    plt.title(target_var)\n",
    "    plt.legend()\n",
    "    plt.xlabel('Date')\n",
    "    plt.ylabel('Average Temperate (F)')\n",
    "    #The following plot fills in the gap between each data set\n",
    "    plt.plot(tokyo['2011-09':'2011-10']['AverageTemperature'], color = '#1f77b4', linewidth = 1)\n",
    "    rmse = evaluate(target_var)\n",
    "    print(target_var, '-- RMSE: {:.0f}'.format(rmse))\n",
    "    plt.show()"
   ]
  },
  {
   "cell_type": "code",
   "execution_count": 27,
   "id": "2d525783",
   "metadata": {},
   "outputs": [],
   "source": [
    "#Create an evaluation dataframe\n",
    "eval_df = pd.DataFrame(columns=['model_type', 'target_var', 'rmse'])\n",
    "\n",
    "# function to store rmse for comparison purposes\n",
    "def append_eval_df(model_type, target_var):\n",
    "    \"\"\"\n",
    "        This function will append evaluation metrics for each model type, target variable, \n",
    "        and metric type, along with the metric value into our eval_df data frame object. \n",
    "    \"\"\"\n",
    "    rmse = evaluate(target_var)\n",
    "    d = {'model_type': [model_type], 'target_var': [target_var], 'rmse': [rmse]}\n",
    "    d = pd.DataFrame(d)\n",
    "    return eval_df.append(d, ignore_index = True)"
   ]
  },
  {
   "cell_type": "code",
   "execution_count": 28,
   "id": "0448a794",
   "metadata": {},
   "outputs": [],
   "source": [
    "def make_predictions():\n",
    "    yhat_df = pd.DataFrame({'AverageTemperature': [avg_temp],\n",
    "                           }, index = validate.index)\n",
    "    return yhat_df"
   ]
  },
  {
   "cell_type": "markdown",
   "id": "222627f8",
   "metadata": {},
   "source": [
    "### Simple Average"
   ]
  },
  {
   "cell_type": "code",
   "execution_count": 29,
   "id": "e9fd158f",
   "metadata": {},
   "outputs": [],
   "source": [
    "#Find the average\n",
    "avg_temp = round(train.AverageTemperature.mean(), 2)"
   ]
  },
  {
   "cell_type": "code",
   "execution_count": 30,
   "id": "be1322dc",
   "metadata": {},
   "outputs": [],
   "source": [
    "yhat_df = make_predictions()"
   ]
  },
  {
   "cell_type": "code",
   "execution_count": 31,
   "id": "cfd4d87e",
   "metadata": {},
   "outputs": [
    {
     "name": "stdout",
     "output_type": "stream",
     "text": [
      "AverageTemperature -- RMSE: 16\n"
     ]
    },
    {
     "data": {
      "image/png": "[encoded data removed]",
      "text/plain": [
       "<Figure size 864x288 with 1 Axes>"
      ]
     },
     "metadata": {
      "needs_background": "light"
     },
     "output_type": "display_data"
    }
   ],
   "source": [
    "for col in train.columns:\n",
    "    plot_and_eval(col)"
   ]
  },
  {
   "cell_type": "code",
   "execution_count": 32,
   "id": "e25fa038",
   "metadata": {},
   "outputs": [],
   "source": [
    "for col in train.columns:\n",
    "    eval_df = append_eval_df(model_type='simple_average', \n",
    "                             target_var = col)"
   ]
  },
  {
   "cell_type": "code",
   "execution_count": 33,
   "id": "d0e2dae1",
   "metadata": {},
   "outputs": [
    {
     "data": {
      "text/html": [
       "<div>\n",
       "<style scoped>\n",
       "    .dataframe tbody tr th:only-of-type {\n",
       "        vertical-align: middle;\n",
       "    }\n",
       "\n",
       "    .dataframe tbody tr th {\n",
       "        vertical-align: top;\n",
       "    }\n",
       "\n",
       "    .dataframe thead th {\n",
       "        text-align: right;\n",
       "    }\n",
       "</style>\n",
       "<table border=\"1\" class=\"dataframe\">\n",
       "  <thead>\n",
       "    <tr style=\"text-align: right;\">\n",
       "      <th></th>\n",
       "      <th>model_type</th>\n",
       "      <th>target_var</th>\n",
       "      <th>rmse</th>\n",
       "    </tr>\n",
       "  </thead>\n",
       "  <tbody>\n",
       "    <tr>\n",
       "      <th>0</th>\n",
       "      <td>simple_average</td>\n",
       "      <td>AverageTemperature</td>\n",
       "      <td>16.0</td>\n",
       "    </tr>\n",
       "  </tbody>\n",
       "</table>\n",
       "</div>"
      ],
      "text/plain": [
       "       model_type          target_var  rmse\n",
       "0  simple_average  AverageTemperature  16.0"
      ]
     },
     "execution_count": 33,
     "metadata": {},
     "output_type": "execute_result"
    }
   ],
   "source": [
    "eval_df"
   ]
  },
  {
   "cell_type": "markdown",
   "id": "2820908b",
   "metadata": {},
   "source": [
    "### Moving Average\n",
    "\n",
    "Use a loop to create several moving average models."
   ]
  },
  {
   "cell_type": "code",
   "execution_count": 34,
   "id": "30db3761",
   "metadata": {},
   "outputs": [],
   "source": [
    "periods = [1, 3, 6, 9, 12]\n",
    "\n",
    "for p in periods:\n",
    "    avg_temp = round(train['AverageTemperature'].rolling(p).mean().iloc[-1], 2)\n",
    "    yhat_df = make_predictions()\n",
    "    model_type = str(p) + 'm moving average'\n",
    "    eval_df = append_eval_df(model_type = model_type,\n",
    "                             target_var = 'AverageTemperature'\n",
    "                            )"
   ]
  },
  {
   "cell_type": "code",
   "execution_count": 35,
   "id": "783f8d7e",
   "metadata": {},
   "outputs": [
    {
     "data": {
      "text/html": [
       "<div>\n",
       "<style scoped>\n",
       "    .dataframe tbody tr th:only-of-type {\n",
       "        vertical-align: middle;\n",
       "    }\n",
       "\n",
       "    .dataframe tbody tr th {\n",
       "        vertical-align: top;\n",
       "    }\n",
       "\n",
       "    .dataframe thead th {\n",
       "        text-align: right;\n",
       "    }\n",
       "</style>\n",
       "<table border=\"1\" class=\"dataframe\">\n",
       "  <thead>\n",
       "    <tr style=\"text-align: right;\">\n",
       "      <th></th>\n",
       "      <th>model_type</th>\n",
       "      <th>target_var</th>\n",
       "      <th>rmse</th>\n",
       "    </tr>\n",
       "  </thead>\n",
       "  <tbody>\n",
       "    <tr>\n",
       "      <th>0</th>\n",
       "      <td>simple_average</td>\n",
       "      <td>AverageTemperature</td>\n",
       "      <td>16.0</td>\n",
       "    </tr>\n",
       "    <tr>\n",
       "      <th>1</th>\n",
       "      <td>1m moving average</td>\n",
       "      <td>AverageTemperature</td>\n",
       "      <td>23.0</td>\n",
       "    </tr>\n",
       "    <tr>\n",
       "      <th>2</th>\n",
       "      <td>3m moving average</td>\n",
       "      <td>AverageTemperature</td>\n",
       "      <td>25.0</td>\n",
       "    </tr>\n",
       "    <tr>\n",
       "      <th>3</th>\n",
       "      <td>6m moving average</td>\n",
       "      <td>AverageTemperature</td>\n",
       "      <td>20.0</td>\n",
       "    </tr>\n",
       "    <tr>\n",
       "      <th>4</th>\n",
       "      <td>9m moving average</td>\n",
       "      <td>AverageTemperature</td>\n",
       "      <td>16.0</td>\n",
       "    </tr>\n",
       "    <tr>\n",
       "      <th>5</th>\n",
       "      <td>12m moving average</td>\n",
       "      <td>AverageTemperature</td>\n",
       "      <td>16.0</td>\n",
       "    </tr>\n",
       "  </tbody>\n",
       "</table>\n",
       "</div>"
      ],
      "text/plain": [
       "           model_type          target_var  rmse\n",
       "0      simple_average  AverageTemperature  16.0\n",
       "1   1m moving average  AverageTemperature  23.0\n",
       "2   3m moving average  AverageTemperature  25.0\n",
       "3   6m moving average  AverageTemperature  20.0\n",
       "4   9m moving average  AverageTemperature  16.0\n",
       "5  12m moving average  AverageTemperature  16.0"
      ]
     },
     "execution_count": 35,
     "metadata": {},
     "output_type": "execute_result"
    }
   ],
   "source": [
    "eval_df"
   ]
  },
  {
   "cell_type": "markdown",
   "id": "ea082957",
   "metadata": {},
   "source": [
    "### Holt's Linear Trend"
   ]
  },
  {
   "cell_type": "code",
   "execution_count": 36,
   "id": "f5a7b816",
   "metadata": {},
   "outputs": [],
   "source": [
    "for col in train.columns:\n",
    "    model = Holt(train[col], exponential = False)\n",
    "    model = model.fit(smoothing_level = .1, \n",
    "                      smoothing_slope = .45, \n",
    "                      optimized = False)\n",
    "    yhat_items = model.predict(start = validate.index[0], \n",
    "                               end = validate.index[-1])\n",
    "    yhat_df[col] = round(yhat_items, 2)"
   ]
  },
  {
   "cell_type": "code",
   "execution_count": 37,
   "id": "126a12c5",
   "metadata": {},
   "outputs": [
    {
     "name": "stdout",
     "output_type": "stream",
     "text": [
      "AverageTemperature -- RMSE: 13\n"
     ]
    },
    {
     "data": {
      "image/png": "[encoded data removed]",
      "text/plain": [
       "<Figure size 864x288 with 1 Axes>"
      ]
     },
     "metadata": {
      "needs_background": "light"
     },
     "output_type": "display_data"
    }
   ],
   "source": [
    "for col in train.columns:\n",
    "    plot_and_eval(target_var = col)"
   ]
  },
  {
   "cell_type": "code",
   "execution_count": 38,
   "id": "5b52fa32",
   "metadata": {},
   "outputs": [],
   "source": [
    "for col in train.columns:\n",
    "    eval_df = append_eval_df(model_type = 'Holts', \n",
    "                             target_var = col)"
   ]
  },
  {
   "cell_type": "code",
   "execution_count": 39,
   "id": "36b7eb74",
   "metadata": {},
   "outputs": [
    {
     "data": {
      "text/html": [
       "<div>\n",
       "<style scoped>\n",
       "    .dataframe tbody tr th:only-of-type {\n",
       "        vertical-align: middle;\n",
       "    }\n",
       "\n",
       "    .dataframe tbody tr th {\n",
       "        vertical-align: top;\n",
       "    }\n",
       "\n",
       "    .dataframe thead th {\n",
       "        text-align: right;\n",
       "    }\n",
       "</style>\n",
       "<table border=\"1\" class=\"dataframe\">\n",
       "  <thead>\n",
       "    <tr style=\"text-align: right;\">\n",
       "      <th></th>\n",
       "      <th>model_type</th>\n",
       "      <th>target_var</th>\n",
       "      <th>rmse</th>\n",
       "    </tr>\n",
       "  </thead>\n",
       "  <tbody>\n",
       "    <tr>\n",
       "      <th>0</th>\n",
       "      <td>simple_average</td>\n",
       "      <td>AverageTemperature</td>\n",
       "      <td>16.0</td>\n",
       "    </tr>\n",
       "    <tr>\n",
       "      <th>1</th>\n",
       "      <td>1m moving average</td>\n",
       "      <td>AverageTemperature</td>\n",
       "      <td>23.0</td>\n",
       "    </tr>\n",
       "    <tr>\n",
       "      <th>2</th>\n",
       "      <td>3m moving average</td>\n",
       "      <td>AverageTemperature</td>\n",
       "      <td>25.0</td>\n",
       "    </tr>\n",
       "    <tr>\n",
       "      <th>3</th>\n",
       "      <td>6m moving average</td>\n",
       "      <td>AverageTemperature</td>\n",
       "      <td>20.0</td>\n",
       "    </tr>\n",
       "    <tr>\n",
       "      <th>4</th>\n",
       "      <td>9m moving average</td>\n",
       "      <td>AverageTemperature</td>\n",
       "      <td>16.0</td>\n",
       "    </tr>\n",
       "    <tr>\n",
       "      <th>5</th>\n",
       "      <td>12m moving average</td>\n",
       "      <td>AverageTemperature</td>\n",
       "      <td>16.0</td>\n",
       "    </tr>\n",
       "    <tr>\n",
       "      <th>6</th>\n",
       "      <td>Holts</td>\n",
       "      <td>AverageTemperature</td>\n",
       "      <td>13.0</td>\n",
       "    </tr>\n",
       "  </tbody>\n",
       "</table>\n",
       "</div>"
      ],
      "text/plain": [
       "           model_type          target_var  rmse\n",
       "0      simple_average  AverageTemperature  16.0\n",
       "1   1m moving average  AverageTemperature  23.0\n",
       "2   3m moving average  AverageTemperature  25.0\n",
       "3   6m moving average  AverageTemperature  20.0\n",
       "4   9m moving average  AverageTemperature  16.0\n",
       "5  12m moving average  AverageTemperature  16.0\n",
       "6               Holts  AverageTemperature  13.0"
      ]
     },
     "execution_count": 39,
     "metadata": {},
     "output_type": "execute_result"
    }
   ],
   "source": [
    "eval_df"
   ]
  },
  {
   "cell_type": "markdown",
   "id": "71246188",
   "metadata": {},
   "source": [
    "### Prediction Using Previous Cycle"
   ]
  },
  {
   "cell_type": "code",
   "execution_count": 40,
   "id": "728a0014",
   "metadata": {},
   "outputs": [],
   "source": [
    "#Add the average yearly difference to the last year's values in train\n",
    "yhat_df = train['2010-10':'2011-09'] + train.diff(12).mean()"
   ]
  },
  {
   "cell_type": "code",
   "execution_count": 41,
   "id": "6eafc407",
   "metadata": {},
   "outputs": [],
   "source": [
    "# set yhat_df to index of validate\n",
    "yhat_df.index = validate.index"
   ]
  },
  {
   "cell_type": "code",
   "execution_count": 42,
   "id": "3d806ddd",
   "metadata": {},
   "outputs": [
    {
     "name": "stdout",
     "output_type": "stream",
     "text": [
      "AverageTemperature -- RMSE: 2\n"
     ]
    },
    {
     "data": {
      "image/png": "[encoded data removed]",
      "text/plain": [
       "<Figure size 864x288 with 1 Axes>"
      ]
     },
     "metadata": {
      "needs_background": "light"
     },
     "output_type": "display_data"
    }
   ],
   "source": [
    "for col in train.columns:\n",
    "    plot_and_eval(target_var = col)\n",
    "    eval_df = append_eval_df(model_type = 'previous year', target_var = col)"
   ]
  },
  {
   "cell_type": "code",
   "execution_count": 43,
   "id": "462d6411",
   "metadata": {},
   "outputs": [
    {
     "data": {
      "text/html": [
       "<div>\n",
       "<style scoped>\n",
       "    .dataframe tbody tr th:only-of-type {\n",
       "        vertical-align: middle;\n",
       "    }\n",
       "\n",
       "    .dataframe tbody tr th {\n",
       "        vertical-align: top;\n",
       "    }\n",
       "\n",
       "    .dataframe thead th {\n",
       "        text-align: right;\n",
       "    }\n",
       "</style>\n",
       "<table border=\"1\" class=\"dataframe\">\n",
       "  <thead>\n",
       "    <tr style=\"text-align: right;\">\n",
       "      <th></th>\n",
       "      <th>model_type</th>\n",
       "      <th>target_var</th>\n",
       "      <th>rmse</th>\n",
       "    </tr>\n",
       "  </thead>\n",
       "  <tbody>\n",
       "    <tr>\n",
       "      <th>0</th>\n",
       "      <td>simple_average</td>\n",
       "      <td>AverageTemperature</td>\n",
       "      <td>16.0</td>\n",
       "    </tr>\n",
       "    <tr>\n",
       "      <th>1</th>\n",
       "      <td>1m moving average</td>\n",
       "      <td>AverageTemperature</td>\n",
       "      <td>23.0</td>\n",
       "    </tr>\n",
       "    <tr>\n",
       "      <th>2</th>\n",
       "      <td>3m moving average</td>\n",
       "      <td>AverageTemperature</td>\n",
       "      <td>25.0</td>\n",
       "    </tr>\n",
       "    <tr>\n",
       "      <th>3</th>\n",
       "      <td>6m moving average</td>\n",
       "      <td>AverageTemperature</td>\n",
       "      <td>20.0</td>\n",
       "    </tr>\n",
       "    <tr>\n",
       "      <th>4</th>\n",
       "      <td>9m moving average</td>\n",
       "      <td>AverageTemperature</td>\n",
       "      <td>16.0</td>\n",
       "    </tr>\n",
       "    <tr>\n",
       "      <th>5</th>\n",
       "      <td>12m moving average</td>\n",
       "      <td>AverageTemperature</td>\n",
       "      <td>16.0</td>\n",
       "    </tr>\n",
       "    <tr>\n",
       "      <th>6</th>\n",
       "      <td>Holts</td>\n",
       "      <td>AverageTemperature</td>\n",
       "      <td>13.0</td>\n",
       "    </tr>\n",
       "    <tr>\n",
       "      <th>7</th>\n",
       "      <td>previous year</td>\n",
       "      <td>AverageTemperature</td>\n",
       "      <td>2.0</td>\n",
       "    </tr>\n",
       "  </tbody>\n",
       "</table>\n",
       "</div>"
      ],
      "text/plain": [
       "           model_type          target_var  rmse\n",
       "0      simple_average  AverageTemperature  16.0\n",
       "1   1m moving average  AverageTemperature  23.0\n",
       "2   3m moving average  AverageTemperature  25.0\n",
       "3   6m moving average  AverageTemperature  20.0\n",
       "4   9m moving average  AverageTemperature  16.0\n",
       "5  12m moving average  AverageTemperature  16.0\n",
       "6               Holts  AverageTemperature  13.0\n",
       "7       previous year  AverageTemperature   2.0"
      ]
     },
     "execution_count": 43,
     "metadata": {},
     "output_type": "execute_result"
    }
   ],
   "source": [
    "eval_df"
   ]
  },
  {
   "cell_type": "markdown",
   "id": "fc095b51",
   "metadata": {},
   "source": [
    "### Evaluate on Test"
   ]
  },
  {
   "cell_type": "code",
   "execution_count": 44,
   "id": "55e3352a",
   "metadata": {},
   "outputs": [
    {
     "data": {
      "text/html": [
       "<div>\n",
       "<style scoped>\n",
       "    .dataframe tbody tr th:only-of-type {\n",
       "        vertical-align: middle;\n",
       "    }\n",
       "\n",
       "    .dataframe tbody tr th {\n",
       "        vertical-align: top;\n",
       "    }\n",
       "\n",
       "    .dataframe thead th {\n",
       "        text-align: right;\n",
       "    }\n",
       "</style>\n",
       "<table border=\"1\" class=\"dataframe\">\n",
       "  <thead>\n",
       "    <tr style=\"text-align: right;\">\n",
       "      <th></th>\n",
       "      <th>model_type</th>\n",
       "      <th>target_var</th>\n",
       "      <th>rmse</th>\n",
       "    </tr>\n",
       "  </thead>\n",
       "  <tbody>\n",
       "    <tr>\n",
       "      <th>7</th>\n",
       "      <td>previous year</td>\n",
       "      <td>AverageTemperature</td>\n",
       "      <td>2.0</td>\n",
       "    </tr>\n",
       "  </tbody>\n",
       "</table>\n",
       "</div>"
      ],
      "text/plain": [
       "      model_type          target_var  rmse\n",
       "7  previous year  AverageTemperature   2.0"
      ]
     },
     "execution_count": 44,
     "metadata": {},
     "output_type": "execute_result"
    }
   ],
   "source": [
    "#Choose best model by finding the lowest rmse\n",
    "eval_df.sort_values(by = 'rmse', ascending = False).tail(1)"
   ]
  },
  {
   "cell_type": "code",
   "execution_count": 45,
   "id": "5e6c6974",
   "metadata": {},
   "outputs": [
    {
     "data": {
      "image/png": "[encoded data removed]",
      "text/plain": [
       "<Figure size 864x432 with 1 Axes>"
      ]
     },
     "metadata": {
      "needs_background": "light"
     },
     "output_type": "display_data"
    }
   ],
   "source": [
    "for col in train.columns:\n",
    "    x = eval_df[eval_df.target_var == col]['model_type']\n",
    "    y = eval_df[eval_df.target_var == col]['rmse']\n",
    "    plt.figure(figsize=(12, 6))\n",
    "    sns.barplot(x, y)\n",
    "    plt.title(col)\n",
    "    plt.ylabel('RMSE')\n",
    "    plt.xticks(rotation=45)\n",
    "    plt.show()"
   ]
  },
  {
   "cell_type": "markdown",
   "id": "f99b52a3",
   "metadata": {},
   "source": [
    "My best model is the previous year model. To evaluate it on test, I will take the average yearly difference from train and add it to the validate set, then apply the test index to those values."
   ]
  },
  {
   "cell_type": "code",
   "execution_count": 46,
   "id": "3c24536a",
   "metadata": {},
   "outputs": [],
   "source": [
    "yhat_df = validate + train.diff(12).mean()\n",
    "yhat_df.index = test.index"
   ]
  },
  {
   "cell_type": "code",
   "execution_count": 47,
   "id": "a0143835",
   "metadata": {},
   "outputs": [],
   "source": [
    "rmse_farenheit = round(sqrt(mean_squared_error(test['AverageTemperature'], yhat_df['AverageTemperature'])), 0)"
   ]
  },
  {
   "cell_type": "code",
   "execution_count": 48,
   "id": "f5f3c344",
   "metadata": {},
   "outputs": [],
   "source": [
    "def plot_and_eval(target_var):\n",
    "    plt.figure(figsize = (12,4))\n",
    "    plt.plot(train[target_var], label = 'Train', linewidth = 1)\n",
    "    plt.plot(validate[target_var], label = 'Validate', linewidth = 1)\n",
    "    plt.plot(test[target_var], label = 'Test', linewidth = 1)\n",
    "    plt.plot(yhat_df[target_var], alpha = .5, label = 'Prediction', color = 'purple')\n",
    "    #The following two plots fill in the gaps between the data sets.\n",
    "    plt.plot(tokyo['2011-09':'2011-10']['AverageTemperature'], color = '#1f77b4', linewidth = 1)\n",
    "    plt.plot(tokyo['2012-09':'2012-10']['AverageTemperature'], color = '#ff7f0e', linewidth = 1)\n",
    "    plt.title(target_var)\n",
    "    plt.legend()\n",
    "    plt.xlabel('Date')\n",
    "    plt.ylabel('Average Temperate (F)')\n",
    "    plt.show()"
   ]
  },
  {
   "cell_type": "code",
   "execution_count": 49,
   "id": "1ea3451e",
   "metadata": {},
   "outputs": [
    {
     "name": "stdout",
     "output_type": "stream",
     "text": [
      "Test RMSE - Degrees Farenheit:  2.0\n"
     ]
    },
    {
     "data": {
      "image/png": "[encoded data removed]",
      "text/plain": [
       "<Figure size 864x288 with 1 Axes>"
      ]
     },
     "metadata": {
      "needs_background": "light"
     },
     "output_type": "display_data"
    }
   ],
   "source": [
    "print(\"Test RMSE - Degrees Farenheit: \", rmse_farenheit)\n",
    "\n",
    "for col in train.columns:\n",
    "    plot_and_eval(col)"
   ]
  },
  {
   "cell_type": "markdown",
   "id": "3e70d4a9",
   "metadata": {},
   "source": [
    "### Forecasting The Next Year (Oct 2013 - Sep 2014)"
   ]
  },
  {
   "cell_type": "code",
   "execution_count": 50,
   "id": "a765ebf3",
   "metadata": {},
   "outputs": [],
   "source": [
    "#Create a df with an index of the desired time frame\n",
    "future_temps = pd.DataFrame()\n",
    "future_temps['date'] = pd.date_range(start = '2013-10', end = '2014-09', closed = None, freq = 'MS')\n",
    "future_temps = future_temps.set_index('date').sort_index()"
   ]
  },
  {
   "cell_type": "code",
   "execution_count": 51,
   "id": "bc14d38b",
   "metadata": {},
   "outputs": [],
   "source": [
    "#Now get predictions\n",
    "yhat_df = test + train.diff(12).mean()"
   ]
  },
  {
   "cell_type": "code",
   "execution_count": 52,
   "id": "40109911",
   "metadata": {},
   "outputs": [],
   "source": [
    "#Set the index to future_temps index\n",
    "yhat_df = yhat_df.set_index(future_temps.index)"
   ]
  },
  {
   "cell_type": "code",
   "execution_count": 53,
   "id": "fc24769f",
   "metadata": {},
   "outputs": [],
   "source": [
    "#append this data to the original tokyo dataframe\n",
    "tokyo = pd.concat([tokyo, yhat_df], axis = 0)"
   ]
  },
  {
   "cell_type": "code",
   "execution_count": 54,
   "id": "e8af6dbd",
   "metadata": {},
   "outputs": [
    {
     "data": {
      "text/html": [
       "<div>\n",
       "<style scoped>\n",
       "    .dataframe tbody tr th:only-of-type {\n",
       "        vertical-align: middle;\n",
       "    }\n",
       "\n",
       "    .dataframe tbody tr th {\n",
       "        vertical-align: top;\n",
       "    }\n",
       "\n",
       "    .dataframe thead th {\n",
       "        text-align: right;\n",
       "    }\n",
       "</style>\n",
       "<table border=\"1\" class=\"dataframe\">\n",
       "  <thead>\n",
       "    <tr style=\"text-align: right;\">\n",
       "      <th></th>\n",
       "      <th>AverageTemperature</th>\n",
       "    </tr>\n",
       "    <tr>\n",
       "      <th>date</th>\n",
       "      <th></th>\n",
       "    </tr>\n",
       "  </thead>\n",
       "  <tbody>\n",
       "    <tr>\n",
       "      <th>2013-10-01</th>\n",
       "      <td>59.791667</td>\n",
       "    </tr>\n",
       "    <tr>\n",
       "      <th>2013-11-01</th>\n",
       "      <td>47.791667</td>\n",
       "    </tr>\n",
       "    <tr>\n",
       "      <th>2013-12-01</th>\n",
       "      <td>36.791667</td>\n",
       "    </tr>\n",
       "    <tr>\n",
       "      <th>2014-01-01</th>\n",
       "      <td>33.791667</td>\n",
       "    </tr>\n",
       "    <tr>\n",
       "      <th>2014-02-01</th>\n",
       "      <td>35.791667</td>\n",
       "    </tr>\n",
       "    <tr>\n",
       "      <th>2014-03-01</th>\n",
       "      <td>45.791667</td>\n",
       "    </tr>\n",
       "    <tr>\n",
       "      <th>2014-04-01</th>\n",
       "      <td>51.791667</td>\n",
       "    </tr>\n",
       "    <tr>\n",
       "      <th>2014-05-01</th>\n",
       "      <td>61.791667</td>\n",
       "    </tr>\n",
       "    <tr>\n",
       "      <th>2014-06-01</th>\n",
       "      <td>69.791667</td>\n",
       "    </tr>\n",
       "    <tr>\n",
       "      <th>2014-07-01</th>\n",
       "      <td>75.791667</td>\n",
       "    </tr>\n",
       "    <tr>\n",
       "      <th>2014-08-01</th>\n",
       "      <td>78.791667</td>\n",
       "    </tr>\n",
       "    <tr>\n",
       "      <th>2014-09-01</th>\n",
       "      <td>78.791667</td>\n",
       "    </tr>\n",
       "  </tbody>\n",
       "</table>\n",
       "</div>"
      ],
      "text/plain": [
       "            AverageTemperature\n",
       "date                          \n",
       "2013-10-01           59.791667\n",
       "2013-11-01           47.791667\n",
       "2013-12-01           36.791667\n",
       "2014-01-01           33.791667\n",
       "2014-02-01           35.791667\n",
       "2014-03-01           45.791667\n",
       "2014-04-01           51.791667\n",
       "2014-05-01           61.791667\n",
       "2014-06-01           69.791667\n",
       "2014-07-01           75.791667\n",
       "2014-08-01           78.791667\n",
       "2014-09-01           78.791667"
      ]
     },
     "execution_count": 54,
     "metadata": {},
     "output_type": "execute_result"
    }
   ],
   "source": [
    "yhat_df"
   ]
  },
  {
   "cell_type": "code",
   "execution_count": 55,
   "id": "bc579d58",
   "metadata": {},
   "outputs": [],
   "source": [
    "def plot_and_eval(target_var):\n",
    "    plt.figure(figsize = (12,4))\n",
    "    plt.plot(train[target_var], label = 'Train', linewidth = 1)\n",
    "    plt.plot(validate[target_var], label = 'Validate', linewidth = 1)\n",
    "    plt.plot(test[target_var], label = 'Test', linewidth = 1)\n",
    "    plt.plot(yhat_df[target_var], alpha = .5, label = 'Prediction', color = 'purple')\n",
    "    #The following three plots fill in the gaps between each data set.\n",
    "    plt.plot(tokyo['2011-09':'2011-10']['AverageTemperature'], color = '#1f77b4', linewidth = 1)\n",
    "    plt.plot(tokyo['2012-09':'2012-10']['AverageTemperature'], color = '#ff7f0e', linewidth = 1)\n",
    "    plt.plot(tokyo['2013-09':'2013-10']['AverageTemperature'], color = '#2ca02c', linewidth = 1)\n",
    "    plt.title(target_var)\n",
    "    plt.legend()\n",
    "    plt.xlabel('Date')\n",
    "    plt.ylabel('Average Temperate (F)')\n",
    "    plt.show()"
   ]
  },
  {
   "cell_type": "code",
   "execution_count": 56,
   "id": "bf34fd74",
   "metadata": {},
   "outputs": [
    {
     "data": {
      "image/png": "[encoded data removed]",
      "text/plain": [
       "<Figure size 864x288 with 1 Axes>"
      ]
     },
     "metadata": {
      "needs_background": "light"
     },
     "output_type": "display_data"
    }
   ],
   "source": [
    "for col in train.columns:\n",
    "    plot_and_eval(col)"
   ]
  },
  {
   "cell_type": "code",
   "execution_count": null,
   "id": "1b4a6d26",
   "metadata": {},
   "outputs": [],
   "source": []
  }
 ],
 "metadata": {
  "kernelspec": {
   "display_name": "Python 3",
   "language": "python",
   "name": "python3"
  },
  "language_info": {
   "codemirror_mode": {
    "name": "ipython",
    "version": 3
   },
   "file_extension": ".py",
   "mimetype": "text/x-python",
   "name": "python",
   "nbconvert_exporter": "python",
   "pygments_lexer": "ipython3",
   "version": "3.9.1"
  }
 },
 "nbformat": 4,
 "nbformat_minor": 5
}
