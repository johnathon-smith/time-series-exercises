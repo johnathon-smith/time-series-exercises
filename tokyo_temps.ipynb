{
 "cells": [
  {
   "cell_type": "markdown",
   "id": "f5c04824",
   "metadata": {},
   "source": [
    "# Time Series End-to-End Exercise\n",
    "***\n",
    "\n",
    "## Forecasting Tokyo Temperatures"
   ]
  },
  {
   "cell_type": "code",
   "execution_count": 1,
   "id": "eecd5af9",
   "metadata": {},
   "outputs": [],
   "source": [
    "import numpy as np\n",
    "import pandas as pd\n",
    "\n",
    "import matplotlib.pyplot as plt\n",
    "import seaborn as sns\n",
    "from pandas.plotting import register_matplotlib_converters\n",
    "\n",
    "from sklearn.metrics import mean_squared_error\n",
    "from math import sqrt\n",
    "\n",
    "import statsmodels.api as sm\n",
    "from statsmodels.tsa.api import Holt\n",
    "\n",
    "import warnings\n",
    "warnings.filterwarnings('ignore')"
   ]
  },
  {
   "cell_type": "markdown",
   "id": "0bb02fae",
   "metadata": {},
   "source": [
    "### Acquire Data\n",
    "\n",
    "The data was acquired from https://www.kaggle.com/berkeleyearth/climate-change-earth-surface-temperature-data and saved as a .csv."
   ]
  },
  {
   "cell_type": "code",
   "execution_count": 2,
   "id": "fa8277fc",
   "metadata": {},
   "outputs": [],
   "source": [
    "temps = pd.read_csv('GlobalLandTemperaturesByCity.csv')"
   ]
  },
  {
   "cell_type": "code",
   "execution_count": 3,
   "id": "8b355f83",
   "metadata": {},
   "outputs": [
    {
     "data": {
      "text/html": [
       "<div>\n",
       "<style scoped>\n",
       "    .dataframe tbody tr th:only-of-type {\n",
       "        vertical-align: middle;\n",
       "    }\n",
       "\n",
       "    .dataframe tbody tr th {\n",
       "        vertical-align: top;\n",
       "    }\n",
       "\n",
       "    .dataframe thead th {\n",
       "        text-align: right;\n",
       "    }\n",
       "</style>\n",
       "<table border=\"1\" class=\"dataframe\">\n",
       "  <thead>\n",
       "    <tr style=\"text-align: right;\">\n",
       "      <th></th>\n",
       "      <th>dt</th>\n",
       "      <th>AverageTemperature</th>\n",
       "      <th>AverageTemperatureUncertainty</th>\n",
       "      <th>City</th>\n",
       "      <th>Country</th>\n",
       "      <th>Latitude</th>\n",
       "      <th>Longitude</th>\n",
       "    </tr>\n",
       "  </thead>\n",
       "  <tbody>\n",
       "    <tr>\n",
       "      <th>0</th>\n",
       "      <td>1743-11-01</td>\n",
       "      <td>6.068</td>\n",
       "      <td>1.737</td>\n",
       "      <td>Århus</td>\n",
       "      <td>Denmark</td>\n",
       "      <td>57.05N</td>\n",
       "      <td>10.33E</td>\n",
       "    </tr>\n",
       "    <tr>\n",
       "      <th>1</th>\n",
       "      <td>1743-12-01</td>\n",
       "      <td>NaN</td>\n",
       "      <td>NaN</td>\n",
       "      <td>Århus</td>\n",
       "      <td>Denmark</td>\n",
       "      <td>57.05N</td>\n",
       "      <td>10.33E</td>\n",
       "    </tr>\n",
       "    <tr>\n",
       "      <th>2</th>\n",
       "      <td>1744-01-01</td>\n",
       "      <td>NaN</td>\n",
       "      <td>NaN</td>\n",
       "      <td>Århus</td>\n",
       "      <td>Denmark</td>\n",
       "      <td>57.05N</td>\n",
       "      <td>10.33E</td>\n",
       "    </tr>\n",
       "    <tr>\n",
       "      <th>3</th>\n",
       "      <td>1744-02-01</td>\n",
       "      <td>NaN</td>\n",
       "      <td>NaN</td>\n",
       "      <td>Århus</td>\n",
       "      <td>Denmark</td>\n",
       "      <td>57.05N</td>\n",
       "      <td>10.33E</td>\n",
       "    </tr>\n",
       "    <tr>\n",
       "      <th>4</th>\n",
       "      <td>1744-03-01</td>\n",
       "      <td>NaN</td>\n",
       "      <td>NaN</td>\n",
       "      <td>Århus</td>\n",
       "      <td>Denmark</td>\n",
       "      <td>57.05N</td>\n",
       "      <td>10.33E</td>\n",
       "    </tr>\n",
       "  </tbody>\n",
       "</table>\n",
       "</div>"
      ],
      "text/plain": [
       "           dt  AverageTemperature  AverageTemperatureUncertainty   City  \\\n",
       "0  1743-11-01               6.068                          1.737  Århus   \n",
       "1  1743-12-01                 NaN                            NaN  Århus   \n",
       "2  1744-01-01                 NaN                            NaN  Århus   \n",
       "3  1744-02-01                 NaN                            NaN  Århus   \n",
       "4  1744-03-01                 NaN                            NaN  Århus   \n",
       "\n",
       "   Country Latitude Longitude  \n",
       "0  Denmark   57.05N    10.33E  \n",
       "1  Denmark   57.05N    10.33E  \n",
       "2  Denmark   57.05N    10.33E  \n",
       "3  Denmark   57.05N    10.33E  \n",
       "4  Denmark   57.05N    10.33E  "
      ]
     },
     "execution_count": 3,
     "metadata": {},
     "output_type": "execute_result"
    }
   ],
   "source": [
    "temps.head()"
   ]
  },
  {
   "cell_type": "code",
   "execution_count": 4,
   "id": "9cc78102",
   "metadata": {},
   "outputs": [
    {
     "name": "stdout",
     "output_type": "stream",
     "text": [
      "<class 'pandas.core.frame.DataFrame'>\n",
      "RangeIndex: 8599212 entries, 0 to 8599211\n",
      "Data columns (total 7 columns):\n",
      " #   Column                         Dtype  \n",
      "---  ------                         -----  \n",
      " 0   dt                             object \n",
      " 1   AverageTemperature             float64\n",
      " 2   AverageTemperatureUncertainty  float64\n",
      " 3   City                           object \n",
      " 4   Country                        object \n",
      " 5   Latitude                       object \n",
      " 6   Longitude                      object \n",
      "dtypes: float64(2), object(5)\n",
      "memory usage: 459.2+ MB\n"
     ]
    }
   ],
   "source": [
    "temps.info()"
   ]
  },
  {
   "cell_type": "code",
   "execution_count": 6,
   "id": "b1b73327",
   "metadata": {},
   "outputs": [],
   "source": [
    "#Grab only the tokyo data\n",
    "tokyo = temps[temps.City == 'Tokyo']"
   ]
  },
  {
   "cell_type": "code",
   "execution_count": 9,
   "id": "9582928e",
   "metadata": {},
   "outputs": [],
   "source": [
    "#Save the tokyo data as a .csv for easy access later\n",
    "tokyo.to_csv('tokyo_temps.csv')"
   ]
  },
  {
   "cell_type": "code",
   "execution_count": 7,
   "id": "43ec92fa",
   "metadata": {},
   "outputs": [
    {
     "data": {
      "text/html": [
       "<div>\n",
       "<style scoped>\n",
       "    .dataframe tbody tr th:only-of-type {\n",
       "        vertical-align: middle;\n",
       "    }\n",
       "\n",
       "    .dataframe tbody tr th {\n",
       "        vertical-align: top;\n",
       "    }\n",
       "\n",
       "    .dataframe thead th {\n",
       "        text-align: right;\n",
       "    }\n",
       "</style>\n",
       "<table border=\"1\" class=\"dataframe\">\n",
       "  <thead>\n",
       "    <tr style=\"text-align: right;\">\n",
       "      <th></th>\n",
       "      <th>dt</th>\n",
       "      <th>AverageTemperature</th>\n",
       "      <th>AverageTemperatureUncertainty</th>\n",
       "      <th>City</th>\n",
       "      <th>Country</th>\n",
       "      <th>Latitude</th>\n",
       "      <th>Longitude</th>\n",
       "    </tr>\n",
       "  </thead>\n",
       "  <tbody>\n",
       "    <tr>\n",
       "      <th>7659221</th>\n",
       "      <td>1845-01-01</td>\n",
       "      <td>2.377</td>\n",
       "      <td>2.006</td>\n",
       "      <td>Tokyo</td>\n",
       "      <td>Japan</td>\n",
       "      <td>36.17N</td>\n",
       "      <td>139.23E</td>\n",
       "    </tr>\n",
       "    <tr>\n",
       "      <th>7659222</th>\n",
       "      <td>1845-02-01</td>\n",
       "      <td>1.312</td>\n",
       "      <td>2.968</td>\n",
       "      <td>Tokyo</td>\n",
       "      <td>Japan</td>\n",
       "      <td>36.17N</td>\n",
       "      <td>139.23E</td>\n",
       "    </tr>\n",
       "    <tr>\n",
       "      <th>7659223</th>\n",
       "      <td>1845-03-01</td>\n",
       "      <td>5.276</td>\n",
       "      <td>1.506</td>\n",
       "      <td>Tokyo</td>\n",
       "      <td>Japan</td>\n",
       "      <td>36.17N</td>\n",
       "      <td>139.23E</td>\n",
       "    </tr>\n",
       "    <tr>\n",
       "      <th>7659224</th>\n",
       "      <td>1845-04-01</td>\n",
       "      <td>10.387</td>\n",
       "      <td>1.508</td>\n",
       "      <td>Tokyo</td>\n",
       "      <td>Japan</td>\n",
       "      <td>36.17N</td>\n",
       "      <td>139.23E</td>\n",
       "    </tr>\n",
       "    <tr>\n",
       "      <th>7659225</th>\n",
       "      <td>1845-05-01</td>\n",
       "      <td>14.923</td>\n",
       "      <td>1.448</td>\n",
       "      <td>Tokyo</td>\n",
       "      <td>Japan</td>\n",
       "      <td>36.17N</td>\n",
       "      <td>139.23E</td>\n",
       "    </tr>\n",
       "  </tbody>\n",
       "</table>\n",
       "</div>"
      ],
      "text/plain": [
       "                 dt  AverageTemperature  AverageTemperatureUncertainty   City  \\\n",
       "7659221  1845-01-01               2.377                          2.006  Tokyo   \n",
       "7659222  1845-02-01               1.312                          2.968  Tokyo   \n",
       "7659223  1845-03-01               5.276                          1.506  Tokyo   \n",
       "7659224  1845-04-01              10.387                          1.508  Tokyo   \n",
       "7659225  1845-05-01              14.923                          1.448  Tokyo   \n",
       "\n",
       "        Country Latitude Longitude  \n",
       "7659221   Japan   36.17N   139.23E  \n",
       "7659222   Japan   36.17N   139.23E  \n",
       "7659223   Japan   36.17N   139.23E  \n",
       "7659224   Japan   36.17N   139.23E  \n",
       "7659225   Japan   36.17N   139.23E  "
      ]
     },
     "execution_count": 7,
     "metadata": {},
     "output_type": "execute_result"
    }
   ],
   "source": [
    "tokyo.head()"
   ]
  },
  {
   "cell_type": "code",
   "execution_count": 8,
   "id": "edae30ea",
   "metadata": {},
   "outputs": [
    {
     "name": "stdout",
     "output_type": "stream",
     "text": [
      "<class 'pandas.core.frame.DataFrame'>\n",
      "Int64Index: 2025 entries, 7659221 to 7661245\n",
      "Data columns (total 7 columns):\n",
      " #   Column                         Non-Null Count  Dtype  \n",
      "---  ------                         --------------  -----  \n",
      " 0   dt                             2025 non-null   object \n",
      " 1   AverageTemperature             2020 non-null   float64\n",
      " 2   AverageTemperatureUncertainty  2020 non-null   float64\n",
      " 3   City                           2025 non-null   object \n",
      " 4   Country                        2025 non-null   object \n",
      " 5   Latitude                       2025 non-null   object \n",
      " 6   Longitude                      2025 non-null   object \n",
      "dtypes: float64(2), object(5)\n",
      "memory usage: 126.6+ KB\n"
     ]
    }
   ],
   "source": [
    "tokyo.info()"
   ]
  },
  {
   "cell_type": "markdown",
   "id": "5918de7b",
   "metadata": {},
   "source": [
    "### Prepare Data"
   ]
  },
  {
   "cell_type": "code",
   "execution_count": 10,
   "id": "415b6689",
   "metadata": {},
   "outputs": [
    {
     "data": {
      "text/plain": [
       "dt                               0\n",
       "AverageTemperature               5\n",
       "AverageTemperatureUncertainty    5\n",
       "City                             0\n",
       "Country                          0\n",
       "Latitude                         0\n",
       "Longitude                        0\n",
       "dtype: int64"
      ]
     },
     "execution_count": 10,
     "metadata": {},
     "output_type": "execute_result"
    }
   ],
   "source": [
    "#Are there any nulls I need to worry about?\n",
    "tokyo.isnull().sum()"
   ]
  },
  {
   "cell_type": "markdown",
   "id": "95f1f89b",
   "metadata": {},
   "source": [
    "There are 5 null values in the 'AverageTemperature' and 'AverageTemperatureUncertainty' columns. Since there are only 5, and I don't want any null or missing values in my dataset, I will simply use the average temperatures for those months to fill them in."
   ]
  },
  {
   "cell_type": "code",
   "execution_count": 14,
   "id": "c65c72d5",
   "metadata": {},
   "outputs": [
    {
     "data": {
      "text/html": [
       "<div>\n",
       "<style scoped>\n",
       "    .dataframe tbody tr th:only-of-type {\n",
       "        vertical-align: middle;\n",
       "    }\n",
       "\n",
       "    .dataframe tbody tr th {\n",
       "        vertical-align: top;\n",
       "    }\n",
       "\n",
       "    .dataframe thead th {\n",
       "        text-align: right;\n",
       "    }\n",
       "</style>\n",
       "<table border=\"1\" class=\"dataframe\">\n",
       "  <thead>\n",
       "    <tr style=\"text-align: right;\">\n",
       "      <th></th>\n",
       "      <th>dt</th>\n",
       "      <th>AverageTemperature</th>\n",
       "      <th>AverageTemperatureUncertainty</th>\n",
       "      <th>City</th>\n",
       "      <th>Country</th>\n",
       "      <th>Latitude</th>\n",
       "      <th>Longitude</th>\n",
       "    </tr>\n",
       "  </thead>\n",
       "  <tbody>\n",
       "    <tr>\n",
       "      <th>7659521</th>\n",
       "      <td>1870-01-01</td>\n",
       "      <td>NaN</td>\n",
       "      <td>NaN</td>\n",
       "      <td>Tokyo</td>\n",
       "      <td>Japan</td>\n",
       "      <td>36.17N</td>\n",
       "      <td>139.23E</td>\n",
       "    </tr>\n",
       "    <tr>\n",
       "      <th>7659522</th>\n",
       "      <td>1870-02-01</td>\n",
       "      <td>NaN</td>\n",
       "      <td>NaN</td>\n",
       "      <td>Tokyo</td>\n",
       "      <td>Japan</td>\n",
       "      <td>36.17N</td>\n",
       "      <td>139.23E</td>\n",
       "    </tr>\n",
       "    <tr>\n",
       "      <th>7659523</th>\n",
       "      <td>1870-03-01</td>\n",
       "      <td>NaN</td>\n",
       "      <td>NaN</td>\n",
       "      <td>Tokyo</td>\n",
       "      <td>Japan</td>\n",
       "      <td>36.17N</td>\n",
       "      <td>139.23E</td>\n",
       "    </tr>\n",
       "    <tr>\n",
       "      <th>7659524</th>\n",
       "      <td>1870-04-01</td>\n",
       "      <td>NaN</td>\n",
       "      <td>NaN</td>\n",
       "      <td>Tokyo</td>\n",
       "      <td>Japan</td>\n",
       "      <td>36.17N</td>\n",
       "      <td>139.23E</td>\n",
       "    </tr>\n",
       "    <tr>\n",
       "      <th>7661245</th>\n",
       "      <td>2013-09-01</td>\n",
       "      <td>NaN</td>\n",
       "      <td>NaN</td>\n",
       "      <td>Tokyo</td>\n",
       "      <td>Japan</td>\n",
       "      <td>36.17N</td>\n",
       "      <td>139.23E</td>\n",
       "    </tr>\n",
       "  </tbody>\n",
       "</table>\n",
       "</div>"
      ],
      "text/plain": [
       "                 dt  AverageTemperature  AverageTemperatureUncertainty   City  \\\n",
       "7659521  1870-01-01                 NaN                            NaN  Tokyo   \n",
       "7659522  1870-02-01                 NaN                            NaN  Tokyo   \n",
       "7659523  1870-03-01                 NaN                            NaN  Tokyo   \n",
       "7659524  1870-04-01                 NaN                            NaN  Tokyo   \n",
       "7661245  2013-09-01                 NaN                            NaN  Tokyo   \n",
       "\n",
       "        Country Latitude Longitude  \n",
       "7659521   Japan   36.17N   139.23E  \n",
       "7659522   Japan   36.17N   139.23E  \n",
       "7659523   Japan   36.17N   139.23E  \n",
       "7659524   Japan   36.17N   139.23E  \n",
       "7661245   Japan   36.17N   139.23E  "
      ]
     },
     "execution_count": 14,
     "metadata": {},
     "output_type": "execute_result"
    }
   ],
   "source": [
    "#Take a look at the null values\n",
    "tokyo[pd.isnull(tokyo.AverageTemperature)]"
   ]
  },
  {
   "cell_type": "code",
   "execution_count": null,
   "id": "a8a6b49a",
   "metadata": {},
   "outputs": [],
   "source": []
  }
 ],
 "metadata": {
  "kernelspec": {
   "display_name": "Python 3",
   "language": "python",
   "name": "python3"
  },
  "language_info": {
   "codemirror_mode": {
    "name": "ipython",
    "version": 3
   },
   "file_extension": ".py",
   "mimetype": "text/x-python",
   "name": "python",
   "nbconvert_exporter": "python",
   "pygments_lexer": "ipython3",
   "version": "3.9.1"
  }
 },
 "nbformat": 4,
 "nbformat_minor": 5
}
