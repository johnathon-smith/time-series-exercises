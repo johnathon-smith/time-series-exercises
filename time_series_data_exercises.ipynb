{
 "cells": [
  {
   "cell_type": "markdown",
   "id": "c09ab927",
   "metadata": {},
   "source": [
    "## Working with Time Series Data"
   ]
  },
  {
   "cell_type": "code",
   "execution_count": 1,
   "id": "7c4e07a6",
   "metadata": {},
   "outputs": [],
   "source": [
    "import numpy as np\n",
    "import pandas as pd\n",
    "from vega_datasets import data\n",
    "import matplotlib.pyplot as plt\n",
    "import seaborn as sns"
   ]
  },
  {
   "cell_type": "code",
   "execution_count": 2,
   "id": "885db51a",
   "metadata": {},
   "outputs": [
    {
     "name": "stdout",
     "output_type": "stream",
     "text": [
      "<class 'pandas.core.frame.DataFrame'>\n",
      "RangeIndex: 8759 entries, 0 to 8758\n",
      "Data columns (total 2 columns):\n",
      " #   Column  Non-Null Count  Dtype         \n",
      "---  ------  --------------  -----         \n",
      " 0   temp    8759 non-null   float64       \n",
      " 1   date    8759 non-null   datetime64[ns]\n",
      "dtypes: datetime64[ns](1), float64(1)\n",
      "memory usage: 137.0 KB\n"
     ]
    }
   ],
   "source": [
    "sf_temps = data.sf_temps()\n",
    "sf_temps.info()"
   ]
  },
  {
   "cell_type": "code",
   "execution_count": 3,
   "id": "ce03ea20",
   "metadata": {},
   "outputs": [
    {
     "data": {
      "text/html": [
       "<div>\n",
       "<style scoped>\n",
       "    .dataframe tbody tr th:only-of-type {\n",
       "        vertical-align: middle;\n",
       "    }\n",
       "\n",
       "    .dataframe tbody tr th {\n",
       "        vertical-align: top;\n",
       "    }\n",
       "\n",
       "    .dataframe thead th {\n",
       "        text-align: right;\n",
       "    }\n",
       "</style>\n",
       "<table border=\"1\" class=\"dataframe\">\n",
       "  <thead>\n",
       "    <tr style=\"text-align: right;\">\n",
       "      <th></th>\n",
       "      <th>temp</th>\n",
       "      <th>date</th>\n",
       "    </tr>\n",
       "  </thead>\n",
       "  <tbody>\n",
       "    <tr>\n",
       "      <th>0</th>\n",
       "      <td>47.8</td>\n",
       "      <td>2010-01-01 00:00:00</td>\n",
       "    </tr>\n",
       "    <tr>\n",
       "      <th>1</th>\n",
       "      <td>47.4</td>\n",
       "      <td>2010-01-01 01:00:00</td>\n",
       "    </tr>\n",
       "    <tr>\n",
       "      <th>2</th>\n",
       "      <td>46.9</td>\n",
       "      <td>2010-01-01 02:00:00</td>\n",
       "    </tr>\n",
       "    <tr>\n",
       "      <th>3</th>\n",
       "      <td>46.5</td>\n",
       "      <td>2010-01-01 03:00:00</td>\n",
       "    </tr>\n",
       "    <tr>\n",
       "      <th>4</th>\n",
       "      <td>46.0</td>\n",
       "      <td>2010-01-01 04:00:00</td>\n",
       "    </tr>\n",
       "  </tbody>\n",
       "</table>\n",
       "</div>"
      ],
      "text/plain": [
       "   temp                date\n",
       "0  47.8 2010-01-01 00:00:00\n",
       "1  47.4 2010-01-01 01:00:00\n",
       "2  46.9 2010-01-01 02:00:00\n",
       "3  46.5 2010-01-01 03:00:00\n",
       "4  46.0 2010-01-01 04:00:00"
      ]
     },
     "execution_count": 3,
     "metadata": {},
     "output_type": "execute_result"
    }
   ],
   "source": [
    "sf_temps.head()"
   ]
  },
  {
   "cell_type": "markdown",
   "id": "9fa49486",
   "metadata": {},
   "source": [
    "### Part 1\n",
    "__Use the above dataset for the exercises below:__"
   ]
  },
  {
   "cell_type": "markdown",
   "id": "1c78bfc0",
   "metadata": {},
   "source": [
    "__1) Resample by the day and take the average temperature. Visualize the average temperature over time.__"
   ]
  },
  {
   "cell_type": "code",
   "execution_count": 4,
   "id": "aa9884fa",
   "metadata": {},
   "outputs": [
    {
     "data": {
      "text/html": [
       "<div>\n",
       "<style scoped>\n",
       "    .dataframe tbody tr th:only-of-type {\n",
       "        vertical-align: middle;\n",
       "    }\n",
       "\n",
       "    .dataframe tbody tr th {\n",
       "        vertical-align: top;\n",
       "    }\n",
       "\n",
       "    .dataframe thead th {\n",
       "        text-align: right;\n",
       "    }\n",
       "</style>\n",
       "<table border=\"1\" class=\"dataframe\">\n",
       "  <thead>\n",
       "    <tr style=\"text-align: right;\">\n",
       "      <th></th>\n",
       "      <th>temp</th>\n",
       "    </tr>\n",
       "    <tr>\n",
       "      <th>date</th>\n",
       "      <th></th>\n",
       "    </tr>\n",
       "  </thead>\n",
       "  <tbody>\n",
       "    <tr>\n",
       "      <th>2010-01-01 00:00:00</th>\n",
       "      <td>47.8</td>\n",
       "    </tr>\n",
       "    <tr>\n",
       "      <th>2010-01-01 01:00:00</th>\n",
       "      <td>47.4</td>\n",
       "    </tr>\n",
       "    <tr>\n",
       "      <th>2010-01-01 02:00:00</th>\n",
       "      <td>46.9</td>\n",
       "    </tr>\n",
       "    <tr>\n",
       "      <th>2010-01-01 03:00:00</th>\n",
       "      <td>46.5</td>\n",
       "    </tr>\n",
       "    <tr>\n",
       "      <th>2010-01-01 04:00:00</th>\n",
       "      <td>46.0</td>\n",
       "    </tr>\n",
       "  </tbody>\n",
       "</table>\n",
       "</div>"
      ],
      "text/plain": [
       "                     temp\n",
       "date                     \n",
       "2010-01-01 00:00:00  47.8\n",
       "2010-01-01 01:00:00  47.4\n",
       "2010-01-01 02:00:00  46.9\n",
       "2010-01-01 03:00:00  46.5\n",
       "2010-01-01 04:00:00  46.0"
      ]
     },
     "execution_count": 4,
     "metadata": {},
     "output_type": "execute_result"
    }
   ],
   "source": [
    "#First set the index to be the date\n",
    "sf_temps= sf_temps.set_index('date').sort_index()\n",
    "sf_temps.head()"
   ]
  },
  {
   "cell_type": "code",
   "execution_count": 5,
   "id": "7dcae487",
   "metadata": {},
   "outputs": [],
   "source": [
    "#Now resample\n",
    "daily_temps = sf_temps.resample('D').mean()"
   ]
  },
  {
   "cell_type": "code",
   "execution_count": 6,
   "id": "269e8648",
   "metadata": {},
   "outputs": [
    {
     "data": {
      "text/plain": [
       "<AxesSubplot:xlabel='date'>"
      ]
     },
     "execution_count": 6,
     "metadata": {},
     "output_type": "execute_result"
    },
    {
     "data": {
      "image/png": "[encoded data removed]",
      "text/plain": [
       "<Figure size 432x288 with 1 Axes>"
      ]
     },
     "metadata": {
      "needs_background": "light"
     },
     "output_type": "display_data"
    }
   ],
   "source": [
    "daily_temps.plot()"
   ]
  },
  {
   "cell_type": "markdown",
   "id": "a3a33298",
   "metadata": {},
   "source": [
    "__2) Write the code necessary to visualize the minimum temperature over time.__"
   ]
  },
  {
   "cell_type": "code",
   "execution_count": 7,
   "id": "78147bec",
   "metadata": {},
   "outputs": [
    {
     "data": {
      "text/plain": [
       "<AxesSubplot:xlabel='date'>"
      ]
     },
     "execution_count": 7,
     "metadata": {},
     "output_type": "execute_result"
    },
    {
     "data": {
      "image/png": "[encoded data removed]",
      "text/plain": [
       "<Figure size 432x288 with 1 Axes>"
      ]
     },
     "metadata": {
      "needs_background": "light"
     },
     "output_type": "display_data"
    }
   ],
   "source": [
    "sf_temps.resample('D').min().plot()"
   ]
  },
  {
   "cell_type": "markdown",
   "id": "7fb8c8b7",
   "metadata": {},
   "source": [
    "__3) Write the code necessary to visualize the maximum temperature over time.__"
   ]
  },
  {
   "cell_type": "code",
   "execution_count": 8,
   "id": "3d5b0ac5",
   "metadata": {},
   "outputs": [
    {
     "data": {
      "text/plain": [
       "<AxesSubplot:xlabel='date'>"
      ]
     },
     "execution_count": 8,
     "metadata": {},
     "output_type": "execute_result"
    },
    {
     "data": {
      "image/png": "[encoded data removed]",
      "text/plain": [
       "<Figure size 432x288 with 1 Axes>"
      ]
     },
     "metadata": {
      "needs_background": "light"
     },
     "output_type": "display_data"
    }
   ],
   "source": [
    "sf_temps.resample('D').max().plot()"
   ]
  },
  {
   "cell_type": "markdown",
   "id": "43959a5e",
   "metadata": {},
   "source": [
    "__4) Which month is the coldest, on average?__"
   ]
  },
  {
   "cell_type": "code",
   "execution_count": 9,
   "id": "e25fc9b8",
   "metadata": {},
   "outputs": [],
   "source": [
    "monthly_temps = sf_temps.resample('M').mean()"
   ]
  },
  {
   "cell_type": "code",
   "execution_count": 10,
   "id": "352e62aa",
   "metadata": {},
   "outputs": [
    {
     "data": {
      "text/plain": [
       "temp   2010-01-31\n",
       "dtype: datetime64[ns]"
      ]
     },
     "execution_count": 10,
     "metadata": {},
     "output_type": "execute_result"
    }
   ],
   "source": [
    "monthly_temps.idxmin()"
   ]
  },
  {
   "cell_type": "markdown",
   "id": "bf4b54cc",
   "metadata": {},
   "source": [
    "__5) Which month has the highest average temperature?__"
   ]
  },
  {
   "cell_type": "code",
   "execution_count": 11,
   "id": "0b432790",
   "metadata": {},
   "outputs": [
    {
     "data": {
      "text/plain": [
       "temp   2010-09-30\n",
       "dtype: datetime64[ns]"
      ]
     },
     "execution_count": 11,
     "metadata": {},
     "output_type": "execute_result"
    }
   ],
   "source": [
    "monthly_temps.idxmax()"
   ]
  },
  {
   "cell_type": "markdown",
   "id": "26a772df",
   "metadata": {},
   "source": [
    "__6) Resample by the day and calculate the min and max temp for the day (Hint: .agg(['min', 'max'])). Use this resampled dataframe to calculate the change in temperature for the day. Which month has the highest daily temperature variability?__"
   ]
  },
  {
   "cell_type": "code",
   "execution_count": 13,
   "id": "ae1728c8",
   "metadata": {},
   "outputs": [],
   "source": [
    "min_max_temps = sf_temps.resample('D').agg(['min', 'max'])"
   ]
  },
  {
   "cell_type": "code",
   "execution_count": 17,
   "id": "b511bc64",
   "metadata": {},
   "outputs": [],
   "source": [
    "min_max_temps.set_axis(['min', 'max'], axis = 1, inplace = True)"
   ]
  },
  {
   "cell_type": "code",
   "execution_count": 18,
   "id": "2cf96274",
   "metadata": {},
   "outputs": [
    {
     "data": {
      "text/html": [
       "<div>\n",
       "<style scoped>\n",
       "    .dataframe tbody tr th:only-of-type {\n",
       "        vertical-align: middle;\n",
       "    }\n",
       "\n",
       "    .dataframe tbody tr th {\n",
       "        vertical-align: top;\n",
       "    }\n",
       "\n",
       "    .dataframe thead th {\n",
       "        text-align: right;\n",
       "    }\n",
       "</style>\n",
       "<table border=\"1\" class=\"dataframe\">\n",
       "  <thead>\n",
       "    <tr style=\"text-align: right;\">\n",
       "      <th></th>\n",
       "      <th>min</th>\n",
       "      <th>max</th>\n",
       "      <th>delta</th>\n",
       "    </tr>\n",
       "    <tr>\n",
       "      <th>date</th>\n",
       "      <th></th>\n",
       "      <th></th>\n",
       "      <th></th>\n",
       "    </tr>\n",
       "  </thead>\n",
       "  <tbody>\n",
       "    <tr>\n",
       "      <th>2010-01-01</th>\n",
       "      <td>45.8</td>\n",
       "      <td>53.3</td>\n",
       "      <td>7.5</td>\n",
       "    </tr>\n",
       "    <tr>\n",
       "      <th>2010-01-02</th>\n",
       "      <td>46.0</td>\n",
       "      <td>53.4</td>\n",
       "      <td>7.4</td>\n",
       "    </tr>\n",
       "    <tr>\n",
       "      <th>2010-01-03</th>\n",
       "      <td>46.1</td>\n",
       "      <td>53.5</td>\n",
       "      <td>7.4</td>\n",
       "    </tr>\n",
       "    <tr>\n",
       "      <th>2010-01-04</th>\n",
       "      <td>46.1</td>\n",
       "      <td>53.6</td>\n",
       "      <td>7.5</td>\n",
       "    </tr>\n",
       "    <tr>\n",
       "      <th>2010-01-05</th>\n",
       "      <td>46.1</td>\n",
       "      <td>53.8</td>\n",
       "      <td>7.7</td>\n",
       "    </tr>\n",
       "    <tr>\n",
       "      <th>...</th>\n",
       "      <td>...</td>\n",
       "      <td>...</td>\n",
       "      <td>...</td>\n",
       "    </tr>\n",
       "    <tr>\n",
       "      <th>2010-12-27</th>\n",
       "      <td>45.6</td>\n",
       "      <td>53.2</td>\n",
       "      <td>7.6</td>\n",
       "    </tr>\n",
       "    <tr>\n",
       "      <th>2010-12-28</th>\n",
       "      <td>45.6</td>\n",
       "      <td>53.2</td>\n",
       "      <td>7.6</td>\n",
       "    </tr>\n",
       "    <tr>\n",
       "      <th>2010-12-29</th>\n",
       "      <td>45.6</td>\n",
       "      <td>53.2</td>\n",
       "      <td>7.6</td>\n",
       "    </tr>\n",
       "    <tr>\n",
       "      <th>2010-12-30</th>\n",
       "      <td>45.6</td>\n",
       "      <td>53.2</td>\n",
       "      <td>7.6</td>\n",
       "    </tr>\n",
       "    <tr>\n",
       "      <th>2010-12-31</th>\n",
       "      <td>45.8</td>\n",
       "      <td>53.2</td>\n",
       "      <td>7.4</td>\n",
       "    </tr>\n",
       "  </tbody>\n",
       "</table>\n",
       "<p>365 rows × 3 columns</p>\n",
       "</div>"
      ],
      "text/plain": [
       "             min   max  delta\n",
       "date                         \n",
       "2010-01-01  45.8  53.3    7.5\n",
       "2010-01-02  46.0  53.4    7.4\n",
       "2010-01-03  46.1  53.5    7.4\n",
       "2010-01-04  46.1  53.6    7.5\n",
       "2010-01-05  46.1  53.8    7.7\n",
       "...          ...   ...    ...\n",
       "2010-12-27  45.6  53.2    7.6\n",
       "2010-12-28  45.6  53.2    7.6\n",
       "2010-12-29  45.6  53.2    7.6\n",
       "2010-12-30  45.6  53.2    7.6\n",
       "2010-12-31  45.8  53.2    7.4\n",
       "\n",
       "[365 rows x 3 columns]"
      ]
     },
     "execution_count": 18,
     "metadata": {},
     "output_type": "execute_result"
    }
   ],
   "source": [
    "min_max_temps['delta'] = min_max_temps['max'] - min_max_temps['min']\n",
    "min_max_temps"
   ]
  },
  {
   "cell_type": "code",
   "execution_count": 21,
   "id": "a99ed8f4",
   "metadata": {},
   "outputs": [
    {
     "data": {
      "text/plain": [
       "Timestamp('2010-09-30 00:00:00', freq='M')"
      ]
     },
     "execution_count": 21,
     "metadata": {},
     "output_type": "execute_result"
    }
   ],
   "source": [
    "#Find the month with the highest average delta\n",
    "min_max_temps.resample('M').mean().delta.idxmax()"
   ]
  },
  {
   "cell_type": "markdown",
   "id": "8c96cf2d",
   "metadata": {},
   "source": [
    "__BONUS: Visualize the daily min, average, and max temperature over time on a single line plot, i.e. the min, average, and maximum temperature should be 3 seperate lines.__"
   ]
  },
  {
   "cell_type": "code",
   "execution_count": 92,
   "id": "cd63e1a2",
   "metadata": {},
   "outputs": [],
   "source": [
    "min_max_avg_temps = sf_temps.resample('D').agg(['min', 'max', 'mean']).set_axis(['min', 'max', 'avg'], axis = 1)"
   ]
  },
  {
   "cell_type": "code",
   "execution_count": 93,
   "id": "5741b594",
   "metadata": {},
   "outputs": [
    {
     "data": {
      "text/plain": [
       "<AxesSubplot:xlabel='date'>"
      ]
     },
     "execution_count": 93,
     "metadata": {},
     "output_type": "execute_result"
    },
    {
     "data": {
      "image/png": "[encoded data removed]",
      "text/plain": [
       "<Figure size 432x288 with 1 Axes>"
      ]
     },
     "metadata": {
      "needs_background": "light"
     },
     "output_type": "display_data"
    }
   ],
   "source": [
    "min_max_avg_temps.plot()"
   ]
  },
  {
   "cell_type": "markdown",
   "id": "c59f05e1",
   "metadata": {},
   "source": [
    "### Part 2\n",
    "\n",
    "__Use the following dataset to answer the questions below__"
   ]
  },
  {
   "cell_type": "code",
   "execution_count": 22,
   "id": "ace4a7ef",
   "metadata": {},
   "outputs": [],
   "source": [
    "weather = data.seattle_weather()"
   ]
  },
  {
   "cell_type": "code",
   "execution_count": 23,
   "id": "685e6767",
   "metadata": {},
   "outputs": [
    {
     "name": "stdout",
     "output_type": "stream",
     "text": [
      "<class 'pandas.core.frame.DataFrame'>\n",
      "RangeIndex: 1461 entries, 0 to 1460\n",
      "Data columns (total 6 columns):\n",
      " #   Column         Non-Null Count  Dtype         \n",
      "---  ------         --------------  -----         \n",
      " 0   date           1461 non-null   datetime64[ns]\n",
      " 1   precipitation  1461 non-null   float64       \n",
      " 2   temp_max       1461 non-null   float64       \n",
      " 3   temp_min       1461 non-null   float64       \n",
      " 4   wind           1461 non-null   float64       \n",
      " 5   weather        1461 non-null   object        \n",
      "dtypes: datetime64[ns](1), float64(4), object(1)\n",
      "memory usage: 68.6+ KB\n"
     ]
    }
   ],
   "source": [
    "weather.info()"
   ]
  },
  {
   "cell_type": "markdown",
   "id": "a1e005ef",
   "metadata": {},
   "source": [
    "__1) Which year and month combination has the highest amount of precipitation?__"
   ]
  },
  {
   "cell_type": "code",
   "execution_count": 26,
   "id": "ffd78a59",
   "metadata": {},
   "outputs": [],
   "source": [
    "weather = weather.set_index('date').sort_index()"
   ]
  },
  {
   "cell_type": "code",
   "execution_count": 31,
   "id": "2a55ae46",
   "metadata": {},
   "outputs": [
    {
     "data": {
      "text/plain": [
       "Timestamp('2015-12-31 00:00:00', freq='M')"
      ]
     },
     "execution_count": 31,
     "metadata": {},
     "output_type": "execute_result"
    }
   ],
   "source": [
    "weather.resample(\"M\").sum().precipitation.idxmax()"
   ]
  },
  {
   "cell_type": "markdown",
   "id": "753e396f",
   "metadata": {},
   "source": [
    "__2) Visualize the amount of monthly precipitation over time.__"
   ]
  },
  {
   "cell_type": "code",
   "execution_count": 33,
   "id": "97a33707",
   "metadata": {},
   "outputs": [
    {
     "data": {
      "text/plain": [
       "<AxesSubplot:xlabel='date'>"
      ]
     },
     "execution_count": 33,
     "metadata": {},
     "output_type": "execute_result"
    },
    {
     "data": {
      "image/png": "[encoded data removed]",
      "text/plain": [
       "<Figure size 432x288 with 1 Axes>"
      ]
     },
     "metadata": {
      "needs_background": "light"
     },
     "output_type": "display_data"
    }
   ],
   "source": [
    "weather.resample(\"M\").sum().precipitation.plot()"
   ]
  },
  {
   "cell_type": "markdown",
   "id": "67d925e2",
   "metadata": {},
   "source": [
    "__3) Visualize the amount of wind over time. Choose a time interval you think is appropriate.__"
   ]
  },
  {
   "cell_type": "code",
   "execution_count": 41,
   "id": "43041ec1",
   "metadata": {},
   "outputs": [
    {
     "data": {
      "text/plain": [
       "<AxesSubplot:xlabel='date'>"
      ]
     },
     "execution_count": 41,
     "metadata": {},
     "output_type": "execute_result"
    },
    {
     "data": {
      "image/png": "[encoded data removed]",
      "text/plain": [
       "<Figure size 432x288 with 1 Axes>"
      ]
     },
     "metadata": {
      "needs_background": "light"
     },
     "output_type": "display_data"
    }
   ],
   "source": [
    "weather.resample(\"M\").sum().wind.plot()"
   ]
  },
  {
   "cell_type": "markdown",
   "id": "7c4a78ec",
   "metadata": {},
   "source": [
    "__4) Which year-month combination is the windiest?__"
   ]
  },
  {
   "cell_type": "code",
   "execution_count": 42,
   "id": "fb69f397",
   "metadata": {},
   "outputs": [
    {
     "data": {
      "text/plain": [
       "Timestamp('2015-12-31 00:00:00', freq='M')"
      ]
     },
     "execution_count": 42,
     "metadata": {},
     "output_type": "execute_result"
    }
   ],
   "source": [
    "weather.resample(\"M\").sum().wind.idxmax()"
   ]
  },
  {
   "cell_type": "markdown",
   "id": "8ef34704",
   "metadata": {},
   "source": [
    "__5) What's the sunniest year? (Hint: which year has the highest number of days where weather == sun?)__"
   ]
  },
  {
   "cell_type": "code",
   "execution_count": 46,
   "id": "294eb771",
   "metadata": {},
   "outputs": [],
   "source": [
    "#Reset the weather df to create a 'year' column\n",
    "weather = data.seattle_weather()\n",
    "weather['year'] = weather.date.dt.year"
   ]
  },
  {
   "cell_type": "code",
   "execution_count": 47,
   "id": "31531400",
   "metadata": {},
   "outputs": [],
   "source": [
    "#Create a df for sunny weather \n",
    "sunny = weather[weather.weather == 'sun']"
   ]
  },
  {
   "cell_type": "code",
   "execution_count": 49,
   "id": "b79fee1b",
   "metadata": {},
   "outputs": [
    {
     "data": {
      "text/plain": [
       "2014"
      ]
     },
     "execution_count": 49,
     "metadata": {},
     "output_type": "execute_result"
    }
   ],
   "source": [
    "sunny.year.value_counts().idxmax()"
   ]
  },
  {
   "cell_type": "markdown",
   "id": "3451be39",
   "metadata": {},
   "source": [
    "__6) In which month does it rain the most?__"
   ]
  },
  {
   "cell_type": "code",
   "execution_count": 63,
   "id": "e247791d",
   "metadata": {},
   "outputs": [],
   "source": [
    "weather['month'] = weather.date.dt.month"
   ]
  },
  {
   "cell_type": "code",
   "execution_count": 64,
   "id": "0f495f8a",
   "metadata": {},
   "outputs": [],
   "source": [
    "#Create df for rainy days only\n",
    "rainy = weather[weather.weather == 'rain']"
   ]
  },
  {
   "cell_type": "code",
   "execution_count": 66,
   "id": "5cb6cac0",
   "metadata": {},
   "outputs": [
    {
     "data": {
      "text/plain": [
       "2"
      ]
     },
     "execution_count": 66,
     "metadata": {},
     "output_type": "execute_result"
    }
   ],
   "source": [
    "rainy.month.value_counts().idxmax()"
   ]
  },
  {
   "cell_type": "markdown",
   "id": "9231791c",
   "metadata": {},
   "source": [
    "__7) Which month has the most number of days with a non-zero amount of precipitation?__"
   ]
  },
  {
   "cell_type": "code",
   "execution_count": 68,
   "id": "e13e4cb0",
   "metadata": {},
   "outputs": [
    {
     "data": {
      "text/plain": [
       "12"
      ]
     },
     "execution_count": 68,
     "metadata": {},
     "output_type": "execute_result"
    }
   ],
   "source": [
    "weather[weather.precipitation > 0].month.value_counts().idxmax()"
   ]
  },
  {
   "cell_type": "markdown",
   "id": "4f2a66ca",
   "metadata": {},
   "source": [
    "### Part 3\n",
    "__Use the following data set to answer the questions below__"
   ]
  },
  {
   "cell_type": "code",
   "execution_count": 69,
   "id": "e2e145b1",
   "metadata": {},
   "outputs": [],
   "source": [
    "flights = data.flights_20k()"
   ]
  },
  {
   "cell_type": "code",
   "execution_count": 70,
   "id": "e9bac5dd",
   "metadata": {},
   "outputs": [
    {
     "name": "stdout",
     "output_type": "stream",
     "text": [
      "<class 'pandas.core.frame.DataFrame'>\n",
      "RangeIndex: 20000 entries, 0 to 19999\n",
      "Data columns (total 5 columns):\n",
      " #   Column       Non-Null Count  Dtype         \n",
      "---  ------       --------------  -----         \n",
      " 0   date         20000 non-null  datetime64[ns]\n",
      " 1   delay        20000 non-null  int64         \n",
      " 2   distance     20000 non-null  int64         \n",
      " 3   origin       20000 non-null  object        \n",
      " 4   destination  20000 non-null  object        \n",
      "dtypes: datetime64[ns](1), int64(2), object(2)\n",
      "memory usage: 781.4+ KB\n"
     ]
    }
   ],
   "source": [
    "flights.info()"
   ]
  },
  {
   "cell_type": "markdown",
   "id": "97b1fd21",
   "metadata": {},
   "source": [
    "__1) Convert any negative delays to 0.__"
   ]
  },
  {
   "cell_type": "code",
   "execution_count": 75,
   "id": "3f31ed24",
   "metadata": {},
   "outputs": [],
   "source": [
    "flights.delay = flights.delay.apply(lambda x: 0 if x < 0 else x)"
   ]
  },
  {
   "cell_type": "markdown",
   "id": "2eec935c",
   "metadata": {},
   "source": [
    "__2) Which hour of the day has the highest average delay?__"
   ]
  },
  {
   "cell_type": "code",
   "execution_count": 77,
   "id": "a4930add",
   "metadata": {},
   "outputs": [],
   "source": [
    "flights['hour'] = flights.date.dt.hour"
   ]
  },
  {
   "cell_type": "code",
   "execution_count": 80,
   "id": "4a034b72",
   "metadata": {},
   "outputs": [
    {
     "data": {
      "text/plain": [
       "3"
      ]
     },
     "execution_count": 80,
     "metadata": {},
     "output_type": "execute_result"
    }
   ],
   "source": [
    "#Group by hour and find max average delay\n",
    "flights.groupby('hour').delay.mean().idxmax()"
   ]
  },
  {
   "cell_type": "markdown",
   "id": "3e6c6d40",
   "metadata": {},
   "source": [
    "__3) Does the day of the week make a difference in the delay amount?__"
   ]
  },
  {
   "cell_type": "code",
   "execution_count": 84,
   "id": "c1c113ac",
   "metadata": {},
   "outputs": [],
   "source": [
    "flights['weekday'] = flights.date.dt.day_name()"
   ]
  },
  {
   "cell_type": "code",
   "execution_count": 91,
   "id": "3f070873",
   "metadata": {},
   "outputs": [
    {
     "data": {
      "text/plain": [
       "weekday\n",
       "Friday       17.757596\n",
       "Monday        7.165772\n",
       "Saturday      8.431498\n",
       "Sunday       10.413542\n",
       "Thursday     12.821322\n",
       "Tuesday       9.410866\n",
       "Wednesday    11.032478\n",
       "Name: delay, dtype: float64"
      ]
     },
     "execution_count": 91,
     "metadata": {},
     "output_type": "execute_result"
    }
   ],
   "source": [
    "#Group by weekday and find average delay times\n",
    "flights.groupby('weekday').delay.mean()"
   ]
  },
  {
   "cell_type": "markdown",
   "id": "a0481218",
   "metadata": {},
   "source": [
    "__4) Does the month make a difference in the delay amount?__"
   ]
  },
  {
   "cell_type": "code",
   "execution_count": 86,
   "id": "b2387464",
   "metadata": {},
   "outputs": [],
   "source": [
    "flights['month'] = flights.date.dt.month"
   ]
  },
  {
   "cell_type": "code",
   "execution_count": 87,
   "id": "475812fe",
   "metadata": {},
   "outputs": [
    {
     "data": {
      "text/plain": [
       "month\n",
       "1    11.301592\n",
       "2    12.306106\n",
       "3     9.875287\n",
       "Name: delay, dtype: float64"
      ]
     },
     "execution_count": 87,
     "metadata": {},
     "output_type": "execute_result"
    }
   ],
   "source": [
    "flights.groupby('month').delay.mean()"
   ]
  },
  {
   "cell_type": "code",
   "execution_count": null,
   "id": "aa369dc5",
   "metadata": {},
   "outputs": [],
   "source": []
  }
 ],
 "metadata": {
  "kernelspec": {
   "display_name": "Python 3",
   "language": "python",
   "name": "python3"
  },
  "language_info": {
   "codemirror_mode": {
    "name": "ipython",
    "version": 3
   },
   "file_extension": ".py",
   "mimetype": "text/x-python",
   "name": "python",
   "nbconvert_exporter": "python",
   "pygments_lexer": "ipython3",
   "version": "3.9.1"
  }
 },
 "nbformat": 4,
 "nbformat_minor": 5
}
